{
 "cells": [
  {
   "cell_type": "markdown",
   "metadata": {},
   "source": [
    "# Пример делегатов\n",
    "\n",
    "Данный пример демонстрирует типы делегатов. Пример иллюстрирует способ сопоставления делегатов статическому методу и методу экземпляров, а также их комбинирование с целью создания групповых делегатов."
   ]
  },
  {
   "cell_type": "markdown",
   "metadata": {},
   "source": [
    "## Пример Compose"
   ]
  },
  {
   "cell_type": "code",
   "execution_count": null,
   "metadata": {
    "vscode": {
     "languageId": "csharp"
    }
   },
   "outputs": [],
   "source": [
    "delegate void MyDelegate(string s);\n",
    "\n",
    "public static void Hello(string s)\n",
    "{\n",
    "    Console.WriteLine(\"  Hello, {0}!\", s);\n",
    "}\n",
    "\n",
    "public static void Goodbye(string s)\n",
    "{\n",
    "    Console.WriteLine(\"  Goodbye, {0}!\", s);\n",
    "}\n",
    "\n",
    "MyDelegate a, b, c, d;\n",
    "\n",
    "// Создание объекта делегата a, который ссылается \n",
    "// на метод Hello:\n",
    "a = new MyDelegate(Hello);\n",
    "// Создание объекта делегата b, который ссылается \n",
    "// на метод Goodbye:\n",
    "b = new MyDelegate(Goodbye);\n",
    "// Два делегата a и b объединяются, чтобы создать делегат c, \n",
    "// который вызывает оба метода в заявке:\n",
    "c = a + b;\n",
    "// Удаление a из составного делегата при сохранении d, \n",
    "// который вызывает только метод Goodbye:\n",
    "d = c - a;\n",
    "\n",
    "Console.WriteLine(\"Invoking delegate a:\");\n",
    "a(\"A\");\n",
    "Console.WriteLine(\"Invoking delegate b:\");\n",
    "b(\"B\");\n",
    "Console.WriteLine(\"Invoking delegate c:\");\n",
    "c(\"C\");\n",
    "Console.WriteLine(\"Invoking delegate d:\");\n",
    "d(\"D\");"
   ]
  },
  {
   "cell_type": "markdown",
   "metadata": {},
   "source": [
    "## Пример Bookstore"
   ]
  },
  {
   "cell_type": "code",
   "execution_count": null,
   "metadata": {
    "dotnet_interactive": {
     "language": "csharp"
    },
    "polyglot_notebook": {
     "language": "csharp"
    },
    "vscode": {
     "languageId": "csharp"
    }
   },
   "outputs": [],
   "source": [
    "// Набор классов для обслуживания книжного магазина:\n",
    "// Описание книги в списке книг:\n",
    "public struct Book\n",
    "{\n",
    "    public string Title;        // Название книги.\n",
    "    public string Author;       // Автор книги.\n",
    "    public decimal Price;       // Цена книги.\n",
    "    public bool Paperback;      // Книга в бумажной обложке?\n",
    "\n",
    "    public Book(string title, string author, decimal price, bool paperBack)\n",
    "    {\n",
    "        Title = title;\n",
    "        Author = author;\n",
    "        Price = price;\n",
    "        Paperback = paperBack;\n",
    "    }\n",
    "}\n",
    "\n",
    "// Объявление типа делегата для обработки книги:\n",
    "public delegate void ProcessBookDelegate(Book book);\n",
    "\n",
    "// Обслуживание базы данных книг.\n",
    "public class BookDB\n",
    "{\n",
    "    // Список всех книг в базе данных:\n",
    "    ArrayList list = new ArrayList();   \n",
    "\n",
    "    // Добавление книги в базу данных:\n",
    "    public void AddBook(string title, string author, decimal price, bool paperBack)\n",
    "    {\n",
    "        list.Add(new Book(title, author, price, paperBack));\n",
    "    }\n",
    "\n",
    "    // Вызов переданного делегата каждой книге в бумажной обложке для ее обработки: \n",
    "    public void ProcessPaperbackBooks(ProcessBookDelegate processBook)\n",
    "    {\n",
    "        foreach (Book b in list) \n",
    "        {\n",
    "        if (b.Paperback)\n",
    "        // Вызов делегата:\n",
    "            processBook(b);\n",
    "        }\n",
    "    }\n",
    "}\n",
    "\n",
    "// Использование классов книжного магазина:\n",
    "// Класс для общих и средних цен на книги:\n",
    "class PriceTotaller\n",
    "{\n",
    "    int countBooks = 0;\n",
    "    decimal priceBooks = 0.0m;\n",
    "\n",
    "    internal void AddBookToTotal(Book book)\n",
    "    {\n",
    "        countBooks += 1;\n",
    "        priceBooks += book.Price;\n",
    "    }\n",
    "\n",
    "    internal decimal AveragePrice()\n",
    "    {\n",
    "        return priceBooks / countBooks;\n",
    "    }\n",
    "}\n",
    "\n",
    "// Тестируем базу данных книг:\n",
    "\n",
    "// Печать названия книги.\n",
    "static void PrintTitle(Book b)\n",
    "{\n",
    "    Console.WriteLine(\"   {0}\", b.Title);\n",
    "}\n",
    "\n",
    "// Инициализация базы данных книг с использованием  нескольких тестовых книг:\n",
    "static void AddBooks(BookDB bookDB)\n",
    "{\n",
    "    bookDB.AddBook(\"The C Programming Language\", \n",
    "    \"Brian W. Kernighan and Dennis M. Ritchie\", 19.95m, true);\n",
    "    bookDB.AddBook(\"The Unicode Standard 2.0\", \n",
    "    \"The Unicode Consortium\", 39.95m, true);\n",
    "    bookDB.AddBook(\"The MS-DOS Encyclopedia\", \n",
    "    \"Ray Duncan\", 129.95m, false);\n",
    "    bookDB.AddBook(\"Dogbert's Clues for the Clueless\", \n",
    "    \"Scott Adams\", 12.00m, true);\n",
    "}\n",
    "\n",
    "// Выполнение начинается здесь.\n",
    "BookDB bookDB = new BookDB();\n",
    "\n",
    "// Инициализация базы данных с использованием нескольких книг:\n",
    "AddBooks(bookDB);\n",
    "\n",
    "// Печать названий всех книг в бумажной обложке:\n",
    "Console.WriteLine(\"Paperback Book Titles:\");\n",
    "// Создание нового объекта делегата, связанного со статическим методом Test.PrintTitle:\n",
    "bookDB.ProcessPaperbackBooks(new ProcessBookDelegate(PrintTitle));\n",
    "\n",
    "// Получение средней цены книги в бумажной обложке при помощи объекта PriceTotaller:\n",
    "PriceTotaller totaller = new PriceTotaller();\n",
    "// Создание нового объекта-делегата, связанного с нестатическим объектом методом AddBookToTotal объекта суммарных показателей:\n",
    "bookDB.ProcessPaperbackBooks(new ProcessBookDelegate(totaller.AddBookToTotal));\n",
    "Console.WriteLine(\"Average Paperback Book Price: ${0:#.##}\", totaller.AveragePrice());\n"
   ]
  },
  {
   "cell_type": "markdown",
   "metadata": {},
   "source": [
    "### Примечание по безопасности\n",
    "\n",
    "Данный код примера предоставлен для иллюстрирования концепции и не должен использоваться в приложениях или веб-узлах, так как он не демонстрирует опыт написания безопасного кода."
   ]
  },
  {
   "cell_type": "markdown",
   "metadata": {},
   "source": []
  }
 ],
 "metadata": {
  "kernelspec": {
   "display_name": ".NET (C#)",
   "language": "C#",
   "name": ".net-csharp"
  },
  "language_info": {
   "file_extension": ".cs",
   "mimetype": "text/x-csharp",
   "name": "C#",
   "pygments_lexer": "csharp",
   "version": "10.0"
  }
 },
 "nbformat": 4,
 "nbformat_minor": 2
}
