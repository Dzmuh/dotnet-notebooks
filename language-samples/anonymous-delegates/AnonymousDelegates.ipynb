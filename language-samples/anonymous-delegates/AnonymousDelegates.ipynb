{
 "cells": [
  {
   "cell_type": "markdown",
   "metadata": {},
   "source": [
    "# Пример анонимных делегатов\n",
    "\n",
    "Данный пример демонстрирует использование анонимных делегатов для вычисления премии сотрудника. Использование анонимных делегатов упрощает программу, так как при этом не требуется задавать отдельный метод.\n",
    "\n",
    "Анонимные делегаты доступны начиная с C# 4.\n",
    "\n",
    "Данные для каждого сотрудника хранятся в объекте, содержащем персональные данные, а также делегат, ссылающийся на алгоритм, требуемый для расчета премии. Путем указания алгоритма посредством делегата тот же метод может использоваться для выполнения расчета премии независимо от способа фактического вычисления. Также стоит отметить, что локальная переменная, множитель, становится захваченной внешней переменной, так как она ссылается на делегированное вычисление."
   ]
  },
  {
   "cell_type": "code",
   "execution_count": null,
   "metadata": {
    "dotnet_interactive": {
     "language": "csharp"
    },
    "polyglot_notebook": {
     "language": "csharp"
    },
    "vscode": {
     "languageId": "dotnet-interactive.csharp"
    }
   },
   "outputs": [],
   "source": [
    "// Определение метода делегата\n",
    "delegate decimal CalculateBonus(decimal sales);\n",
    "\n",
    "// Определение типа Employee.\n",
    "class Employee\n",
    "{\n",
    "    public string name;\n",
    "    public decimal sales;\n",
    "    public decimal bonus;\n",
    "    public CalculateBonus calculation_algorithm;\n",
    "}\n",
    "\n",
    "// Далее определим двух делегатов, выполняющих расчет.\n",
    "// Первый будет именованным методом, а второй -- анонимным делегатом.\n",
    "\n",
    "// Это -- именованный метод.\n",
    "// Он определяет одну возможную реализацию алгоритма расчета бонуса.\n",
    "static decimal CalculateStandardBonus(decimal sales)\n",
    "{\n",
    "    return sales / 10;\n",
    "}\n",
    "\n",
    "// Значение, используемое при расчете бонуса.\n",
    "// Примечание. Эта локальная переменная станет \"зафиксированной внешней переменной\".\n",
    "decimal multiplier = 2;\n",
    "\n",
    "// Этот делегат определяется как именованный метод.\n",
    "CalculateBonus standard_bonus = new CalculateBonus(CalculateStandardBonus);\n",
    "\n",
    "// Этот делегат анонимный -- для него нет именованного метода.\n",
    "// Он определяет альтернативный алгоритм расчета бонуса.\n",
    "CalculateBonus enhanced_bonus = delegate(decimal sales) { return multiplier * sales / 10; };\n",
    "\n",
    "// Объявление нескольких объектов Employee.\n",
    "Employee[] staff = new Employee[5];\n",
    "\n",
    "// Заполнение массива Employees.\n",
    "for (int i = 0; i < 5; i++)\n",
    "    staff[i] = new Employee();\n",
    "\n",
    "// Присвоение начальных значений объектам Employees.\n",
    "staff[0].name = \"Mr Apple\";\n",
    "staff[0].sales = 100;\n",
    "staff[0].calculation_algorithm = standard_bonus;\n",
    "\n",
    "staff[1].name = \"Ms Banana\";\n",
    "staff[1].sales = 200;\n",
    "staff[1].calculation_algorithm = standard_bonus;\n",
    "\n",
    "staff[2].name = \"Mr Cherry\";\n",
    "staff[2].sales = 300;\n",
    "staff[2].calculation_algorithm = standard_bonus;\n",
    "\n",
    "staff[3].name = \"Mr Date\";\n",
    "staff[3].sales = 100;\n",
    "staff[3].calculation_algorithm = enhanced_bonus;\n",
    "\n",
    "staff[4].name = \"Ms Elderberry\";\n",
    "staff[4].sales = 250;\n",
    "staff[4].calculation_algorithm = enhanced_bonus;\n",
    "\n",
    "// Расчет бонуса для всех объектов Employees\n",
    "foreach (Employee person in staff)\n",
    "    PerformBonusCalculation(person);\n",
    "\n",
    "static void PerformBonusCalculation(Employee person)\n",
    "{\n",
    "    // Этот метод применяет делегата, сохраненного в персональном объекте,\n",
    "    // для выполнения расчета.\n",
    "    // Примечание: этому методу известна локальная переменная коэффициента, несмотря на то, что\n",
    "    // переменная находится вне области действия метода.\n",
    "    // Переменная коэффициента -- это \"зафиксированная внешняя переменная\".\n",
    "    person.bonus = person.calculation_algorithm(person.sales);\n",
    "}\n",
    "\n",
    "static void DisplayPersonDetails(Employee person)\n",
    "{\n",
    "    Console.WriteLine(person.name);\n",
    "    Console.WriteLine(person.bonus);\n",
    "    Console.WriteLine(\"---------------\");\n",
    "}\n",
    "\n",
    "// Отображение подробных сведений обо всех объектах Employees\n",
    "foreach (Employee person in staff)\n",
    "    DisplayPersonDetails(person);"
   ]
  },
  {
   "cell_type": "markdown",
   "metadata": {},
   "source": [
    "## Построение и выполнение примеров анонимных делегатов\n",
    "\n",
    "```bash\n",
    "csc AnonymousDelegates.cs\n",
    "AnonymousDelegates\n",
    "```"
   ]
  },
  {
   "cell_type": "markdown",
   "metadata": {},
   "source": [
    "### Примечание по безопасности\n",
    "\n",
    "Данный код примера предоставлен для иллюстрации концепции и не должен использоваться в приложениях или веб-узлах, так как он не демонстрирует опыт написания безопасного кода."
   ]
  }
 ],
 "metadata": {
  "kernelspec": {
   "display_name": ".NET (C#)",
   "language": "C#",
   "name": ".net-csharp"
  },
  "language_info": {
   "file_extension": ".cs",
   "mimetype": "text/x-csharp",
   "name": "C#",
   "pygments_lexer": "csharp",
   "version": "10.0"
  }
 },
 "nbformat": 4,
 "nbformat_minor": 2
}
