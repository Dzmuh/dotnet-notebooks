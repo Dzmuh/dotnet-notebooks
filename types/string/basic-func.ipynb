{
 "cells": [
  {
   "cell_type": "markdown",
   "metadata": {},
   "source": [
    "# Базовые операции манипулирования строками\n"
   ]
  },
  {
   "cell_type": "markdown",
   "metadata": {},
   "source": [
    "## Базовые функциональные возможности типа String"
   ]
  },
  {
   "cell_type": "code",
   "execution_count": 1,
   "metadata": {
    "dotnet_interactive": {
     "language": "csharp"
    },
    "polyglot_notebook": {
     "kernelName": "csharp"
    },
    "vscode": {
     "languageId": "polyglot-notebook"
    }
   },
   "outputs": [
    {
     "name": "stdout",
     "output_type": "stream",
     "text": [
      "Значение переменной firstName: Илья\n",
      "Длина значения переменной firstName: 4 символов.\n",
      "Значение переменной firstName в верхнем регистре: ИЛЬЯ\n",
      "Значение переменной firstName в нижнем регистре: илья\n",
      "Содержится ли в значении firstName буква и?: False\n",
      "Значение firstName после замены: Ия\n"
     ]
    }
   ],
   "source": [
    "string firstName = \"Илья\";\n",
    "\n",
    "Console.WriteLine(\"Значение переменной firstName: {0}\", firstName);\n",
    "Console.WriteLine(\"Длина значения переменной firstName: {0} символов.\", firstName.Length);\n",
    "Console.WriteLine(\"Значение переменной firstName в верхнем регистре: {0}\", firstName.ToUpper());\n",
    "Console.WriteLine(\"Значение переменной firstName в нижнем регистре: {0}\", firstName.ToLower());\n",
    "Console.WriteLine(\"Содержится ли в значении firstName буква и?: {0}\", firstName.Contains(\"и\"));\n",
    "Console.WriteLine(\"Значение firstName после замены: {0}\", firstName.Replace(\"ль\", \"\"));"
   ]
  },
  {
   "cell_type": "markdown",
   "metadata": {},
   "source": [
    "## Конкатенация строк"
   ]
  },
  {
   "cell_type": "code",
   "execution_count": 2,
   "metadata": {
    "dotnet_interactive": {
     "language": "csharp"
    },
    "polyglot_notebook": {
     "kernelName": "csharp"
    },
    "vscode": {
     "languageId": "polyglot-notebook"
    }
   },
   "outputs": [
    {
     "name": "stdout",
     "output_type": "stream",
     "text": [
      "Программирование - это вынос мозга\r\n"
     ]
    }
   ],
   "source": [
    "string s1 = \"Программирование - это \";\n",
    "string s2 = \"вынос мозга\";\n",
    "string s3 = String.Concat(s1, s2);\n",
    "Console.WriteLine(s3);"
   ]
  },
  {
   "cell_type": "markdown",
   "metadata": {},
   "source": [
    "## Управляющие последовательности символов"
   ]
  },
  {
   "cell_type": "code",
   "execution_count": 5,
   "metadata": {
    "dotnet_interactive": {
     "language": "csharp"
    },
    "polyglot_notebook": {
     "kernelName": "csharp"
    },
    "vscode": {
     "languageId": "polyglot-notebook"
    }
   },
   "outputs": [
    {
     "name": "stdout",
     "output_type": "stream",
     "text": [
      "Модель\tЦвет\tСкорость\tКличка\n",
      "Каждый любит \"Здравствуй, мир\"\n",
      "C:\\MyApp\\bin\\Debug\n",
      "Все закончено.\n",
      "\n",
      "\n",
      "\n",
      "C:\\MyApp\\bin\\Debug\n",
      "Это очень\n",
      "    очень\n",
      "        очень\n",
      "            длинная строка\n",
      "Церебус сказал: \"Даррр! Крас-сивые зак-каты\"\n"
     ]
    }
   ],
   "source": [
    "string strWithTabs = \"Модель\\tЦвет\\tСкорость\\tКличка\";\n",
    "\n",
    "Console.WriteLine(strWithTabs);\n",
    "Console.WriteLine(\"Каждый любит \\\"Здравствуй, мир\\\"\");\n",
    "Console.WriteLine(\"C:\\\\MyApp\\\\bin\\\\Debug\");\n",
    "// Добавить 4 пустых строки\n",
    "Console.WriteLine(\"Все закончено.\\n\\n\\n\");\n",
    "// Следующая строка будет воспроизводиться дословно, т.е. с отображением всех управляющих последовательностей символов\n",
    "Console.WriteLine(@\"C:\\MyApp\\bin\\Debug\");\n",
    "// При использовании дословных строк пробелы сохраняются\n",
    "string myLongString = @\"Это очень\n",
    "    очень\n",
    "        очень\n",
    "            длинная строка\";\n",
    "Console.WriteLine(myLongString);\n",
    "Console.WriteLine(@\"Церебус сказал: \"\"Даррр! Крас-сивые зак-каты\"\"\");"
   ]
  },
  {
   "cell_type": "markdown",
   "metadata": {},
   "source": [
    "## Равенство строк"
   ]
  },
  {
   "cell_type": "code",
   "execution_count": 6,
   "metadata": {
    "dotnet_interactive": {
     "language": "csharp"
    },
    "polyglot_notebook": {
     "kernelName": "csharp"
    },
    "vscode": {
     "languageId": "polyglot-notebook"
    }
   },
   "outputs": [
    {
     "name": "stdout",
     "output_type": "stream",
     "text": [
      "s1 = Привет!\n",
      "s2 = Ё!\n",
      "\n",
      "s1 == s2: False\n",
      "s1 == Привет!: True\n",
      "s1 == ПРИВЕТ!: False\n",
      "s1 == привет!: False\n",
      "s1.Equals(s2): False\n",
      "Ё.Equals(s2): True\n"
     ]
    }
   ],
   "source": [
    "string s1 = \"Привет!\";\n",
    "string s2 = \"Ё!\";\n",
    "Console.WriteLine(\"s1 = {0}\", s1);\n",
    "Console.WriteLine(\"s2 = {0}\", s2);\n",
    "Console.WriteLine();\n",
    "\n",
    "// Выполнение проверки на предмет равенства данных строк\n",
    "Console.WriteLine(\"s1 == s2: {0}\", s1 == s2);\n",
    "Console.WriteLine(\"s1 == Привет!: {0}\", s1 == \"Привет!\");\n",
    "Console.WriteLine(\"s1 == ПРИВЕТ!: {0}\", s1 == \"ПРИВЕТ!\");\n",
    "Console.WriteLine(\"s1 == привет!: {0}\", s1 == \"привет!\");\n",
    "Console.WriteLine(\"s1.Equals(s2): {0}\", s1.Equals(s2));\n",
    "Console.WriteLine(\"Ё.Equals(s2): {0}\", \"Ё!\".Equals(s2));"
   ]
  },
  {
   "cell_type": "markdown",
   "metadata": {},
   "source": [
    "## Использование типа StringBuilder"
   ]
  },
  {
   "cell_type": "code",
   "execution_count": null,
   "metadata": {
    "dotnet_interactive": {
     "language": "csharp"
    },
    "polyglot_notebook": {
     "kernelName": "csharp"
    },
    "vscode": {
     "languageId": "polyglot-notebook"
    }
   },
   "outputs": [],
   "source": [
    "// Создание объекта StringBuilder с исходным размером в 256 символов\n",
    "StringBuilder sb = new StringBuilder(\"*****Фантастические игры*****\", 256);\n",
    "sb.Append(\"\\n\");\n",
    "sb.AppendLine(\"Half Life\");\n",
    "sb.AppendLine(\"Beyond Good and Evil\");\n",
    "sb.AppendLine(\"Deus Ex 2\");\n",
    "sb.AppendLine(\"System Shock\");\n",
    "Console.WriteLine(sb.ToString());\n",
    "sb.Replace(\"2\", \"Invisible War\");\n",
    "Console.WriteLine(sb.ToString());\n",
    "Console.WriteLine(\"sb содержит {0} символов.\", sb.Length);"
   ]
  }
 ],
 "metadata": {
  "language_info": {
   "name": "csharp"
  },
  "orig_nbformat": 4
 },
 "nbformat": 4,
 "nbformat_minor": 2
}
