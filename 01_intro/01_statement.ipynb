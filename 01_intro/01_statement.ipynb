{
 "cells": [
  {
   "cell_type": "markdown",
   "metadata": {},
   "source": [
    "# Инструкции\n",
    "\n",
    "Базовым строительным блоком программы являются инструкции (statement). Инструкция представляет некоторое действие, например, арифметическую операцию, вызов метода, объявление переменной и присвоение ей значения. В конце каждой инструкции в C# ставится точка с запятой (```;```). Данный знак указывает компилятору на конец инструкции."
   ]
  },
  {
   "cell_type": "code",
   "execution_count": null,
   "metadata": {
    "vscode": {
     "languageId": "csharp"
    }
   },
   "outputs": [],
   "source": [
    "Console.WriteLine(\"Hello, World!\");"
   ]
  },
  {
   "cell_type": "markdown",
   "metadata": {},
   "source": [
    "Строка выше представляет вызов метода ```Console.WriteLine```, который выводит на консоль строку. В данном случае вызов метода является инструкцией и поэтому завершается точкой с запятой."
   ]
  },
  {
   "cell_type": "markdown",
   "metadata": {},
   "source": [
    "## Блок кода\n",
    "\n",
    "Набор инструкций может объединяться в блок кода. Блок кода заключается в фигурные скобки, а инструкции помещаются между открывающей и закрывающей фигурными скобками."
   ]
  },
  {
   "cell_type": "code",
   "execution_count": null,
   "metadata": {
    "vscode": {
     "languageId": "csharp"
    }
   },
   "outputs": [],
   "source": [
    "{\n",
    "    Console.WriteLine(\"Cześć!\");\n",
    "    Console.WriteLine(\"Witamy w C#\");\n",
    "}"
   ]
  },
  {
   "cell_type": "markdown",
   "metadata": {},
   "source": [
    "В блоке кода выше содержится две инструкции.\n",
    "\n",
    "Одни блоки кода могут содержать другие блоки:"
   ]
  },
  {
   "cell_type": "code",
   "execution_count": null,
   "metadata": {
    "vscode": {
     "languageId": "csharp"
    }
   },
   "outputs": [],
   "source": [
    "{\n",
    "    Console.WriteLine(\"Pierwszy blok\");\n",
    "    {\n",
    "        Console.WriteLine(\"Drugi blok\");\n",
    "    }\n",
    "}"
   ]
  },
  {
   "cell_type": "markdown",
   "metadata": {},
   "source": [
    "## Комментарии\n",
    "\n",
    "Важной частью программного кода являются комментарии. Они не являются собственно частью программы, при компиляции они игнорируются. Тем не менее комментарии делают код программы более понятным, помогая понять те или иные его части.\n",
    "\n",
    "Есть два типа комментариев: однострочный и многострочный. Однострочный комментарий размещается на одной строке после двойного слеша ```//```. А многострочный комментарий заключается между символами <code>/* текст комментария */</code>. Он может размещаться на нескольких строках. Например:"
   ]
  },
  {
   "cell_type": "code",
   "execution_count": null,
   "metadata": {
    "vscode": {
     "languageId": "csharp"
    }
   },
   "outputs": [],
   "source": [
    "/*\n",
    "       To jest mój pierwszy program w C#,\n",
    "       drukuje powitanie na konsoli.\n",
    "*/\n",
    "Console.WriteLine(\"Cześć\");       // Wypisz ciąg \"Cześć\"\n",
    "Console.WriteLine(\"Witamy w C#\"); // Wypisz ciąg \"Witamy w C#\""
   ]
  }
 ],
 "metadata": {
  "kernelspec": {
   "display_name": ".NET (C#)",
   "language": "C#",
   "name": ".net-csharp"
  },
  "language_info": {
   "file_extension": ".cs",
   "mimetype": "text/x-csharp",
   "name": "C#",
   "pygments_lexer": "csharp",
   "version": "10.0"
  },
  "orig_nbformat": 4
 },
 "nbformat": 4,
 "nbformat_minor": 2
}
