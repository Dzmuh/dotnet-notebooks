{
 "cells": [
  {
   "cell_type": "markdown",
   "metadata": {},
   "source": [
    "# Dictionary в .NET\n",
    "\n",
    "В этом блокноте рассматриваем какие типы Dictionary бывают в C# и смотрим под капот и более глубоко по работе с ними."
   ]
  },
  {
   "cell_type": "markdown",
   "metadata": {},
   "source": [
    "## Dictionary\n",
    "\n",
    "Словарь (dictionary) — это обобщенная версия Hashtable содержащая в себе объект структуры `KeyValuePair<TKey, TValue>`. Главное свойство dictionary — быстрый поиск с помощью ключей. Можно также добавлять и удалять элементы, наподобие того как это делается в `List<T>`, но без расходов производительности, связанных с необходимостью смещения последующих элементов в памяти.\n",
    "\n",
    "На диаграмме ниже вы можете увидеть упрощенную модель dictionary. Здесь ключами словаря служат ID, такие, как: 1,2,3. Ключ в последствии трансформируется в хэш. В хэше создается число для ассоциации индекса с Value. После этого индекс содержит ссылку на Value.\n",
    "\n",
    "![Dictionary](./.media/dictionary.jpg)"
   ]
  },
  {
   "cell_type": "markdown",
   "metadata": {},
   "source": [
    "## Требования к ключу Dictionary\n",
    "\n",
    "Dictionary использует метод GetHashCode() класса Object для вычисления целого числа которое используется для поиска индекса для вставки нового значения. \n",
    "\n",
    "Реализовывая свой кастомный GetHashCode() вы должны удовлетворить следующие требования:\n",
    "\n",
    "* Один и тот же объект должен всегда возвращать одинаковый хэш-код (Хэш-код не должен изменятся во время жизни объекта).\n",
    "* Разные объекты могут возвращать одно и то же значение хэш-кода.\n",
    "* Метод должен выполняться очень быстро.\n",
    "* Он не должен генерировать эксепшенов.\n",
    "* Он должен использовать как минимум одно поле экземпляра.\n",
    "* Значения хэш-кода должны распределяться равномерно по всему диапазону чисел, которые может хранить int."
   ]
  },
  {
   "cell_type": "markdown",
   "metadata": {},
   "source": [
    "## Зачем равномерно распределять значения хэш-кода по диапазону целых чисел?\n",
    "\n",
    "Если два ключа возвращают хэш-значения, дающие один и тот же индекс, Dictionary приходится искать ближайшее доступное свободное место для сохранения второго элемента, к тому же ему придется выполнять некоторый поиск, чтобы впоследствии извлечь требуемое значение. Это сильно влияет на производительность, Microsoft, разработала хороший алгоритм который вычисляет значение хэш-кода равномерно распределено между `int.MinValue` и `int.MaxValue`. Следовательно, это снижает угрозу с производительностью Dictionary, а значит всегда старайтесь использовать стандартный метод GetHashCode от Майкрософт. Более детально про Equals можно почитать в этой статье.\n",
    "\n",
    "Поскольку разные объекты ключа могут возвращать один и тот же хэш-код, метод `Equals()` используется при сравнении ключей словаря. Словарь проверяет два ключа А и В на эквивалентность, вызывая `A.Equals(В)`."
   ]
  },
  {
   "cell_type": "markdown",
   "metadata": {},
   "source": [
    "## Insert\n",
    "\n",
    "Если мы обратимся к исходному коду словаря, то у видим что словаря есть один очень важный field `private int[] buckets;` который используется в словаре для быстрой вставки и поиска значений в словаре.\n",
    "\n",
    "При добавлении элемента вычисляется хэш-код Key объекта и формируется значение currentBucket'a на основании этого хэш-кода.\n",
    "\n",
    "```csharp\n",
    "int hashCode = comparer.GetHashCode(key) & 0x7FFFFFFF;\n",
    "int targetBucket = hashCode % buckets.Length;\n",
    "```\n",
    "\n",
    "В конце присваиваются значения новосозданному объекту:\n",
    "\n",
    "```csharp\n",
    "entries[index].hashCode = hashCode;\n",
    "entries[index].next = buckets[targetBucket];\n",
    "entries[index].key = key;\n",
    "entries[index].value = value;\n",
    "buckets[targetBucket] = index;\n",
    "version++;\n",
    "```\n",
    "\n",
    "Схематически это будет выглядеть следующим образом:\n",
    "\n",
    "![Insert](./.media/insert.png)\n",
    "\n",
    "Если в buckets уже есть элемент с bucketNum, новый элемент добавляется в коллекцию, а индекс сохраняется в buckets, а индекс старого элемента в его поле next, сематически это выглядит вот так:\n",
    "\n",
    "![Insert](./.media/insert2.png)"
   ]
  },
  {
   "cell_type": "markdown",
   "metadata": {},
   "source": [
    "## Remove\n",
    "\n",
    "Удаление со словаря представлено следующим кодом:\n",
    "\n",
    "```csharp\n",
    "public bool Remove(TKey key) {\n",
    "    if (key == null)\n",
    "    {\n",
    "        ThrowHelper.ThrowArgumentNullException(ExceptionArgument.key);\n",
    "    }\n",
    "\n",
    "    if (buckets != null)\n",
    "    {\n",
    "        int hashCode = comparer.GetHashCode(key) & 0x7FFFFFFF;\n",
    "        int bucket = hashCode % buckets.Length;\n",
    "        int last = -1;\n",
    "        for (int i = buckets[bucket]; i >= 0; last = i, i = entries[i].next)\n",
    "        {\n",
    "            if (entries[i].hashCode == hashCode && comparer.Equals(entries[i].key, key))\n",
    "            {\n",
    "                if (last < 0)\n",
    "                {\n",
    "                    buckets[bucket] = entries[i].next;\n",
    "                }\n",
    "                else\n",
    "                {\n",
    "                    entries[last].next = entries[i].next;\n",
    "                }\n",
    "                entries[i].hashCode = -1;\n",
    "                entries[i].next = freeList;\n",
    "                entries[i].key = default(TKey);\n",
    "                entries[i].value = default(TValue);\n",
    "                freeList = i;\n",
    "                freeCount++;\n",
    "                version++;\n",
    "                return true;\n",
    "            }\n",
    "        }\n",
    "    }\n",
    "    return false;\n",
    "}\n",
    "```\n",
    "\n",
    "Как мы видим при удаленимы удаляем содержимое ячеек значениями по умолчанию, меняем указатели next  других элементов при неоходимости и сохраняем индекс этого элемента во внутреннее поле freeList, а старое в поле next. Таким образом, при добавлении нового элемента мы можем повторно использовать такие свободные ячейки:\n",
    "\n",
    "![Remove](./.media/remove.png)\n",
    "\n",
    "Помните, что при очистке Dictionary, (метод Clear) его внутренний размер не изменяется. То есть, потенциально, вы можете тратить место. \n",
    "\n",
    "**Примеры**\n",
    "\n",
    "Первый пример когда в качестве ключа служит структура (для наглядности примера я переопределил метод `GetHashCode` который теперь всегда будет возвращать 0):"
   ]
  },
  {
   "cell_type": "code",
   "execution_count": 1,
   "metadata": {
    "dotnet_interactive": {
     "language": "csharp"
    },
    "polyglot_notebook": {
     "kernelName": "csharp"
    },
    "vscode": {
     "languageId": "polyglot-notebook"
    }
   },
   "outputs": [
    {
     "name": "stdout",
     "output_type": "stream",
     "text": [
      "Submission#2+MyStruct record 1\n",
      "Submission#2+MyStruct record 2\n",
      "Submission#2+MyStruct record 3\n"
     ]
    }
   ],
   "source": [
    "struct MyStruct\n",
    "{\n",
    "    public int Value { get; set; }\n",
    "\n",
    "    public override int GetHashCode()\n",
    "    {\n",
    "        return 0;\n",
    "    }\n",
    "}\n",
    "\n",
    "var dictionary = new Dictionary<MyStruct, string>();\n",
    "var str = new MyStruct\n",
    "{\n",
    "    Value = 1\n",
    "};\n",
    "var str2 = new MyStruct\n",
    "{\n",
    "    Value = 2\n",
    "};\n",
    "dictionary[str] = \"record 1\";\n",
    "dictionary[str2] = \"record 2\";\n",
    "str.Value = 3;\n",
    "dictionary[str] = \"record 3\";\n",
    "\n",
    "foreach (var pair in dictionary)\n",
    "{\n",
    "    Console.WriteLine($\"{pair.Key} {pair.Value}\");\n",
    "}"
   ]
  },
  {
   "cell_type": "markdown",
   "metadata": {},
   "source": [
    "Мы получим 3 записи, почему?\n",
    "\n",
    "Давайте вспомним как работает Equals в структурах. Он сравнив значения всех свойств увидел что несмотря на то что `str` не менялась, а только изменилась `str.Value` определил что это другая структура и записал ее новым элементом словаря.\n",
    "\n",
    "Теперь давайте рассмотрим другой пример, когда в качестве ключа используется класс:"
   ]
  },
  {
   "cell_type": "code",
   "execution_count": 3,
   "metadata": {
    "dotnet_interactive": {
     "language": "csharp"
    },
    "polyglot_notebook": {
     "kernelName": "csharp"
    },
    "vscode": {
     "languageId": "polyglot-notebook"
    }
   },
   "outputs": [
    {
     "name": "stdout",
     "output_type": "stream",
     "text": [
      "Submission#4+MyClass record 3\n",
      "Submission#4+MyClass record 2\n"
     ]
    }
   ],
   "source": [
    "class MyClass\n",
    "{\n",
    "    public int Value { get; set; }\n",
    "\n",
    "    public override int GetHashCode()\n",
    "    {\n",
    "        return 0;\n",
    "    }\n",
    "}\n",
    "\n",
    "var dictionary = new Dictionary<MyClass, string>();\n",
    "var str = new MyClass\n",
    "{\n",
    "    Value = 1\n",
    "};\n",
    "var str2 = new MyClass\n",
    "{\n",
    "    Value = 2\n",
    "};\n",
    "dictionary[str] = \"record 1\";\n",
    "dictionary[str2] = \"record 2\";\n",
    "str.Value = 3;\n",
    "dictionary[str] = \"record 3\";\n",
    "\n",
    "foreach (var pair in dictionary)\n",
    "{\n",
    "    Console.WriteLine($\"{pair.Key} {pair.Value}\");\n",
    "}"
   ]
  },
  {
   "cell_type": "markdown",
   "metadata": {},
   "source": [
    "В этот раз будет выведено всего 2 записи.\n",
    "\n",
    "Почему так произошло?\n",
    "\n",
    "Класс это ссылочный тип, следовательно тот факт что мы изменили Value в классе, никак не влияет при его проверке методом `Equals`."
   ]
  },
  {
   "cell_type": "markdown",
   "metadata": {},
   "source": [
    "## ListDictionary\n",
    "Это простая реализация IDictionary с использованием односвязного списка. Она меньше и быстрее, чем Hashtable, если количество элементов равно 10 или меньше. Лучше не использовать этот класс, если вам важна производительность для большого количества элементов.\n",
    "\n",
    "Принимает  в качестве параметров тип Object.\n",
    "\n",
    "Пример инициализации:\n",
    "\n",
    "```csharp\n",
    "var dictionary = new ListDictionary\n",
    "{\n",
    "    { \"key\", \"value\"}\n",
    "};\n",
    "```"
   ]
  },
  {
   "cell_type": "markdown",
   "metadata": {},
   "source": [
    "## HybridDictionary\n",
    "\n",
    "Гибридная версия между `ListDictionary` и `HashTable`. До 10 элементов гибрит использует `ListDictionary` элементов если же коллекция становится больше чем 10 элементов, он переключается на работу с `HashTable`."
   ]
  },
  {
   "cell_type": "markdown",
   "metadata": {},
   "source": [
    "## OrderedDictionary\n",
    "\n",
    "Иногда бывают моменты когда вы хотите использовать ключи для поиска или foreach для итерации с помощью `DictionaryEntry` объектов. Элементы `OrderedDictionary` доступны с помощью ключа или индекса. Элементы `OrderedDictionary` не сортируются по ключу, в отличие от элементов `SortedDictionary<TKey,TValue>` класса который мы рассматриваем выше."
   ]
  },
  {
   "cell_type": "code",
   "execution_count": 6,
   "metadata": {
    "dotnet_interactive": {
     "language": "csharp"
    },
    "polyglot_notebook": {
     "kernelName": "csharp"
    },
    "vscode": {
     "languageId": "polyglot-notebook"
    }
   },
   "outputs": [
    {
     "name": "stdout",
     "output_type": "stream",
     "text": [
      "odin\n",
      "dva\n",
      "tri\n",
      "chetiri\n",
      "pyat\n",
      "odin\n",
      "dva\n",
      "tri\n",
      "chetiri\n",
      "pyat\n"
     ]
    }
   ],
   "source": [
    "using System.Collections.Specialized;\n",
    "\n",
    "var dictionary = new OrderedDictionary\n",
    "{\n",
    "    {\"01\", \"odin\"},\n",
    "    {\"02\", \"dva\"},\n",
    "    {\"03\", \"tri\"},\n",
    "    {\"04\", \"chetiri\"},\n",
    "    {\"05\", \"pyat\"}\n",
    "};\n",
    "\n",
    "// Reference the values array style\n",
    "for (int i = 0; i < dictionary.Count; i++)\n",
    "{\n",
    "    string valueString = (string)dictionary[i];\n",
    "    Console.WriteLine(valueString);\n",
    "\n",
    "}\n",
    "\n",
    "// Reference the values Dictionary style\n",
    "\n",
    "foreach (DictionaryEntry myDE in dictionary)\n",
    "{\n",
    "    Console.WriteLine(myDE.Value);\n",
    "}"
   ]
  },
  {
   "cell_type": "markdown",
   "metadata": {},
   "source": [
    "Вы можете видеть, что я использовал два разных метода, чтобы перебрать коллекцию. В первом примере я использовал цикл for и числовой индекс для извлечения каждого объекта (в данном случае строки), хранящегося в коллекции. \n",
    "\n",
    "Другим преимуществом OrderedDictionary является скорость. При просмотре большой коллекции чтение OrderedDictionary с использованием первого примера, числового индекса, всегда будет быстрее, чем при использовании метода стиля словаря.\n",
    "\n",
    "Когда вам нужна \"мощь\" коллекции и простой доступ к числовому индексу, OrderedDictionary является предпочтительной коллекцией."
   ]
  },
  {
   "cell_type": "markdown",
   "metadata": {},
   "source": [
    "## SortedDictionary\n",
    "Класс SortedDictionary<TKey, Tvalue> представляет дерево бинарного поиска, в котором все элементы отсортированы на основе ключа. Тип ключа должен реализовать интерфейс IComparable<TKey>. Если тип ключа не сортируемый, компаратор можно также создать, реализовав IComparer<TKey> и указав его в качестве аргумента конструктора сортированного словаря.\n",
    "\n",
    "Классы SortedDictionary<TKey, Tvalue> и SortedList<TKey, TValue> часто сравнивают друг с другом, так как они имеют схожий функционал. Но поскольку SortedList<TKey, TValue> реализован в виде списка, основанного на массиве, a SortedDictionary<TKey, Tvalue> реализован как словарь, эти классы обладают разными характеристиками:\n",
    "\n",
    "* `SortedList<TKey, TValue>` использует меньше памяти, чем `SortedDictionary<TKey, TValue>`\n",
    "* `SortedDictionary<TKey, TValue>` быстрее вставляет и удаляет элементы.\n",
    "* При наполнении коллекции отсортированными данными `SortedList<TKey,TValue>` работает быстрее, если при этом не требуется изменение размера.\n",
    "\n",
    "Класс `SortedDictionary<TKey, TValue>` реализует интерфейсы `IDictionary`, `IDictionary<TKey, TValue>`, `ICollection, ICollection<KeyValuePair<TKey, TValue>>`, `IEnumerable` и `IEnumerable<KeyValuePair<TKey, TValue>>`. В классе `SortedDictionary<TKey, TValue>` реализованы следующие конструкторы:\n",
    "\n",
    "```csharp\n",
    "public SortedDictionary()\n",
    "public SortedDictionary(IDictionary<TKey, TValue> dictionary)\n",
    "public SortedDictionary(IComparer<TKey> comparer)\n",
    "public SortedDictionary(IDictionary<TKey, TValue> dictionary, IComparer<TKey> comparer)\n",
    "```\n",
    "\n",
    "В первом конструкторе создается пустой словарь, во втором конструкторе — словарь с указанным количеством элементов dictionary. В третьем конструкторе допускается указывать с помощью параметра comparer типа IComparer способ сравнения, используемый для сортировки, а в четвертом конструкторе — инициализировать словарь, помимо указания способа сравнения.\n",
    "\n",
    "В классе `SortedDictionary<TKey, TValue>` определен ряд методов. Некоторые наиболее часто используемые методы этого класса приведены ниже:\n",
    "\n",
    "### Add()\n",
    "\n",
    "Добавляет в словарь пару \"ключ-значение\", определяемую параметрами key и value. Если ключ key уже находится в словаре, то его значение не изменяется, и генерируется исключение ArgumentException\n",
    "\n",
    "### ContainsKey()\n",
    "\n",
    "Возвращает логическое значение true, если вызывающий словарь содержит объект key в качестве ключа; в противном случае — логическое значение false\n",
    "\n",
    "### ContainsValue()\n",
    "\n",
    "Возвращает логическое значение true, если вызывающий словарь содержит значение value, в противном случае — логическое значение false\n",
    "\n",
    "### Remove()\n",
    "\n",
    "Удаляет ключ key из словаря. При удачном исходе операции возвращается логическое значение `true`, а если ключ key отсутствует в словаре — логическое значение `false`\n",
    "\n",
    "Следует иметь в виду, что ключи и значения, содержащиеся в коллекции, доступны отдельными списками с помощью свойств Keys и Values. В коллекциях типа `SortedDictionary<TKey, TValue>.KeyCollection` и `SortedDictionary<TKey, TValue>.ValueCollection` реализуются как обобщенные, так и необобщенные формы интерфейсов `ICollection` и `IEnumerable`."
   ]
  },
  {
   "cell_type": "markdown",
   "metadata": {},
   "source": [
    "## StringDictionary\n",
    "\n",
    "Предназначен для хеш-таблиц, в которых хранятся пары \"ключ-значение\", причем и ключ, и значение относятся к типу string. На данный момент этот класс является устрашевшим и не рекомендую вам его использовать в ваших приложениях."
   ]
  },
  {
   "cell_type": "markdown",
   "metadata": {},
   "source": [
    "## ConcurrentDictionary\n",
    "\n",
    "Представляет потокобезопасную коллекцию пар \"ключ-значение\", доступ к которой могут одновременно получать несколько потоков.\n",
    "\n",
    "Для настройки есть 2 основных параметра:\n",
    "\n",
    "**сapacity** — первоначальное кол-во элементов. По умолчанию — 31.\n",
    "\n",
    "**concurrencyLevel** – предполагаемое число потоков на запись. По умолчанию = 4\n",
    "\n",
    "### Методы ConcurrentDictionary\n",
    "\n",
    "Основные Методы словаря можно разделить на 3 группы: \n",
    "\n",
    "* полностью неблокируемые;\n",
    "* блокировка одного элемента из пула блокировок;\n",
    "* блокировка всего словаря;\n",
    "\n",
    "К полностью не блокируемым операциям можно отнести:\n",
    "\n",
    "* ContainsKey\n",
    "* TryGet\n",
    "* this [ ]\n",
    "* GetEnumerator – операция не обеспечивает целостность данных (не использует снепшоты), т.е. данные за время работы функции могут поменяться.\n",
    "\n",
    "Все операции чтения (Get/ContainsKey) имеют примерно одинаковый алгоритм работы:\n",
    "\n",
    "* вычисление хеша ключа через GetHashCode()\n",
    "* вычисление бакета, в котором лежит наш элемент\n",
    "* сравнения значения ключа в бакете с тем, который у нас\n",
    "* чтение значения с использованием Volatile.Read\n",
    "\n",
    "К операциям с блокировкой одного элемента из пула блокировок можно отнести:\n",
    "\n",
    "* TryAdd\n",
    "* TryUpdate\n",
    "* TryRemove\n",
    "\n",
    "Ниже примерный алгоритм работы:\n",
    "\n",
    "* Вычисление хеша ключа нового элемента\n",
    "* Вычисление бакета bucketNo, в который будет добавлен элемент, и номера блокировки из пула\n",
    "* Блокировка bucketNo через `Monitor.Enter`\n",
    "* Запись элемента с использованием `Volatile.Write`\n",
    "* Освобождение блокировки `Monitor.Exit`\n",
    "\n",
    "К самым неэффективным операциям, которые блокируют весь словарь, относятся:\n",
    "\n",
    "* `Count`, `IsEmpty`. Да, эти операции требуют полной блокировки словаря. Если вам необходимо сохранить в лог-файл число элементов, то можно использовать GetEnumerator и LINQ. Так же  эти методы  захватывают все локи в словаре. Лучше воздержаться от частого вызова этих свойств из нескольких потоков.\n",
    "* `Keys`, `Values` – получение списка ключей и списка значений соответственно. Они не только берут все локи, но и целиком копируют в отдельный List все ключи и значения. В отличие от традиционного Dictionary, одноимённые свойства которого возвращают «тонкие» обертки, здесь нужно быть готовым к крупным аллокациям памяти.\n",
    "* `CopyTo` – explicit ICollection\n",
    "* `Clear`, `ToArray`"
   ]
  },
  {
   "cell_type": "markdown",
   "metadata": {},
   "source": [
    "В отличие от обычного Dictionary, можно производить вставку в ConcurrentDictionary или удаление из него прямо во время перечисления.\n",
    "\n",
    "```csharp\n",
    "foreach (var pair in dictionary)\n",
    "{\n",
    "    if (IsStale(pair.Value))\n",
    "    {\n",
    "        dictionary.TryRemove(pair.Key, out _);\n",
    "    }\n",
    "}\n",
    "```\n",
    "\n",
    "Удалять элементы можно не только по ключу, но и по точному совпадению key + value, причем атомарно! Это недокументированная возможность, скрытая за explicit-реализацией интерфейса ICollection. Она позволяет безопасно очищать такой кэш даже в условиях гонки с обновлением значения:\n",
    "\n",
    "```csharp\n",
    "var collection = cache as ICollection<KeyValuePair<MyKey, MyValue>>\n",
    "\n",
    "foreach (var pair in cache)\n",
    "{\n",
    "    if (IsStale(pair.Value))\n",
    "    {\n",
    "        // Remove() will return false in case of race with value update\n",
    "        var removed = collection.Remove(pair); \n",
    "    }\n",
    "}\n",
    "```\n",
    "\n",
    "в условиях конкурентного доступа GetOrAdd может вызвать делегат-фабрику для одного ключа сильно больше одного раза. Если так делать нельзя или дорого, достаточно обернуть значение в Lazy:\n",
    "\n",
    "```csharp\n",
    "var dictionary = new ConcurrentDictionary<MyKey, Lazy<MyValue>>();\n",
    "\n",
    "var lazyMode = LazyThreadSafetyMode.ExecutionAndPublication;\n",
    "\n",
    "var value = dictionary\n",
    "    .GetOrAdd(key, _ => new Lazy<MyValue>(() => new MyValue(), lazyMode))\n",
    "    .Value;\n",
    "```"
   ]
  },
  {
   "cell_type": "markdown",
   "metadata": {},
   "source": [
    "## ImmutableDictionary и ReadOnlyDictionary\n",
    "\n",
    "ReadOnlyDictionary можно инициализировать всего один раз через конструктор, После вы не сможете добавлять или удалять в него элементы. Это полезно, если вы хотите убедиться, что он не будет изменен, пока он будет отправлен через несколько уровней вашего приложения. Вы инициализируете ReadOnlyDictionary, передавая другой экземпляр слова конструктору. Это объясняет, почему ReadOnlyDictionary является изменяемым (если базовый словарь изменен). Это просто оболочка, защищенная от прямых изменений.\n",
    "\n",
    "В ImmutableDictionary есть методы для его модификации, такие как \" Add или \" Remove, но они создадут новый словарь и вернут его, исходный останется без изменений и вернется копия нового неизменяемого словаря. ImmutableDictionary является потокобезопасным, потому что вы не можете изменить исходный экземпляр (ни прямо, ни косвенно). Все методы, которые \"изменяют\", фактически возвращают новый экземпляр."
   ]
  },
  {
   "cell_type": "markdown",
   "metadata": {},
   "source": [
    "## Бенчмарки и итоги\n",
    "\n",
    "Теперь давайте сравним быстродействие этих листов. ListDictionary исключен из тестов т.к он не эффективен для большого количества записей.\n",
    "\n",
    "Тестирование проводили с 100000 записями, Код тестирования:\n",
    "\n",
    "```csharp\n",
    "private static void AddItems<T>(T dictionary) where T : IDictionary<int, int>\n",
    "{\n",
    "    var watch = Stopwatch.StartNew();\n",
    "    for (int i = 0; i < 100000; i++)\n",
    "    {\n",
    "        dictionary.Add(i, i);\n",
    "    }\n",
    "    watch.Stop();\n",
    "    Console.WriteLine(typeof(T) + \" Insert operation: \" + watch.ElapsedMilliseconds);\n",
    "\n",
    "    watch.Restart();\n",
    "    for (int i = 0; i < 100000; i++)\n",
    "    {\n",
    "        var item = dictionary[i];\n",
    "    }\n",
    "    watch.Stop();\n",
    "    Console.WriteLine(typeof(T) + \"Foreach operation: \" + watch.ElapsedMilliseconds);\n",
    "\n",
    "    watch.Restart();\n",
    "    for (int i = 0; i < 100000; i++)\n",
    "    {\n",
    "        dictionary[i] = Int32.MaxValue;\n",
    "    }\n",
    "    watch.Stop();\n",
    "    Console.WriteLine(typeof(T) + \"Update operation: \" + watch.ElapsedMilliseconds);\n",
    "\n",
    "    watch.Restart();\n",
    "    for (int i = 0; i < 100000; i++)\n",
    "    {\n",
    "        dictionary.Remove(dictionary[i]);\n",
    "    }\n",
    "    watch.Stop();\n",
    "    Console.WriteLine(typeof(T) + \"remove operation: \" + watch.ElapsedMilliseconds);\n",
    "}\n",
    "```"
   ]
  },
  {
   "cell_type": "markdown",
   "metadata": {},
   "source": [
    "Первый тест на 100к записях:\n",
    "\n",
    "| Тип                  | Операция Insert | Операция Foreach | Операция Update | Операция Remove |\n",
    "|----------------------|-----------------|------------------|-----------------|-----------------|\n",
    "| Dictionary           | 5мс             | 1мс              | 1мс             | 2мс\n",
    "| ConcurrentDictionary | 37мс            | 3мс              | 8мс             | 10мс\n",
    "| HybridDictionary     | 15мс            | 23мс             | 10мс            | 26мс\n",
    "| SortedDictionary     | 50мс            | 30мс             | 26мс            | 69мс\n",
    "| OrderedDictionary    | 55мс            | 10мс             | 89990мс         | 190522мс\n",
    "\n",
    "Видим что OrderedDictionary безнадежно проигрывает по сравнению с остальными при обновлении и удалении."
   ]
  },
  {
   "cell_type": "markdown",
   "metadata": {},
   "source": [
    "Давайте проведем те же тесты но на 10М записей но уже без OrderedDictionary\n",
    "\n",
    "| Тип                  | Операция Insert | Операция Foreach | Операция Update | Операция Remove |\n",
    "|----------------------|-----------------|------------------|-----------------|-----------------|\n",
    "| Dictionary\t       | 491мс           | 168мс            | 178мс           | 275мс\n",
    "| ConcurrentDictionary | 4652мс          | 239мс            | 548мс           | 635мс\n",
    "| HybridDictionary     | 2666мс          | 594мс            | 2835мс          | 1097мс\n",
    "| SortedDictionary     | 5829мс          | 2889мс           | 2797мс          | 8700мс\n",
    "\n",
    "Если сравнить Dictionary с листом, то лист будет проигровать скорости вставки, поиска и удаления.\n",
    "\n",
    "Обратите внимание на таблицу ниже, тут отображены скорость работы методов основных типов коллекций:"
   ]
  }
 ],
 "metadata": {
  "language_info": {
   "name": "csharp"
  },
  "orig_nbformat": 4
 },
 "nbformat": 4,
 "nbformat_minor": 2
}
