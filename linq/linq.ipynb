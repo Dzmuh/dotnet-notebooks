{
 "cells": [
  {
   "cell_type": "markdown",
   "metadata": {},
   "source": [
    "# LINQ\n",
    "\n",
    "LINQ (Language-Integrated Query) представляет простой и удобный язык запросов к источнику данных. В качестве источника данных может выступать объект, реализующий интерфейс IEnumerable (например, стандартные коллекции, массивы), набор данных DataSet, документ XML. Но вне зависимости от типа источника LINQ позволяет применить ко всем один и тот же подход для выборки данных.\n",
    "\n",
    "Существует несколько разновидностей LINQ:\n",
    "\n",
    "* **LINQ to Objects**: применяется для работы с массивами и коллекциями\n",
    "* **LINQ to Entities**: используется при обращении к базам данных через технологию Entity Framework\n",
    "* **LINQ to XML**: применяется при работе с файлами XML\n",
    "* **LINQ to DataSet**: применяется при работе с объектом DataSet\n",
    "* **Parallel LINQ (PLINQ)**: используется для выполнения параллельных запросов\n",
    "\n",
    "Основная часть функциональности LINQ сосредоточена в пространстве имен `System.LINQ`.\n",
    "В проектах под .NET 6 данное пространство имен подключается по умолчанию."
   ]
  },
  {
   "cell_type": "markdown",
   "metadata": {},
   "source": [
    "LINQ медленный, однако он предоставляет невероятное удобство при работе с данными.\n",
    "Например, выберем из массива строки, которые начинаются на определенную букву, например, букву \"T\", и отсортируем полученный список:"
   ]
  },
  {
   "cell_type": "code",
   "execution_count": 2,
   "metadata": {
    "dotnet_interactive": {
     "language": "csharp"
    },
    "polyglot_notebook": {
     "kernelName": "csharp"
    },
    "vscode": {
     "languageId": "polyglot-notebook"
    }
   },
   "outputs": [
    {
     "name": "stdout",
     "output_type": "stream",
     "text": [
      "Toaleta\n",
      "Toaletka\n"
     ]
    }
   ],
   "source": [
    "string[] wc = { \"Toaleta\", \"WC\", \"Wucet\", \"Wuce\", \"Toaletka\", \"Ubikacja\", \"Klozet\", \"Kibel\" };\n",
    " \n",
    "// создаем новый список для результатов\n",
    "var selectedPeople = new List<string>();\n",
    "// проходим по массиву\n",
    "foreach (string person in wc)\n",
    "{\n",
    "    // если строка начинается на букву T, добавляем в список\n",
    "    if (person.ToUpper().StartsWith(\"T\"))\n",
    "        selectedPeople.Add(person);\n",
    "}\n",
    "// сортируем список\n",
    "selectedPeople.Sort();\n",
    " \n",
    "foreach (string person in selectedPeople)\n",
    "    Console.WriteLine(person);"
   ]
  }
 ],
 "metadata": {
  "language_info": {
   "name": "csharp"
  },
  "orig_nbformat": 4
 },
 "nbformat": 4,
 "nbformat_minor": 2
}
