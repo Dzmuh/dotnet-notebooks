{
 "cells": [
  {
   "cell_type": "markdown",
   "metadata": {},
   "source": [
    "# Объяснение основных методов LINQ в .NET\n",
    "\n",
    "Начиная работать с LINQ методами, можно не до конца понимать принцип их работы, в этом блокноте объясняем как работают основные методы LINQ."
   ]
  },
  {
   "cell_type": "markdown",
   "metadata": {},
   "source": [
    "## Select\n",
    "\n",
    "С помощью метода `Select` мы создаем проекцию одного элемента на другой. Проще говоря, мы сопоставляем наш заданный тип с желаемым типом. Результирующий набор содержит то же количество элементов, что и исходный набор данных.\n",
    "\n",
    "![Select](./.media/select.png)\n",
    "\n",
    "Пример:"
   ]
  },
  {
   "cell_type": "code",
   "execution_count": 4,
   "metadata": {
    "dotnet_interactive": {
     "language": "csharp"
    },
    "polyglot_notebook": {
     "kernelName": "csharp"
    },
    "vscode": {
     "languageId": "polyglot-notebook"
    }
   },
   "outputs": [
    {
     "name": "stdout",
     "output_type": "stream",
     "text": [
      "Tom\n",
      "Bob\n",
      "Sam\n",
      "Alice\n"
     ]
    }
   ],
   "source": [
    "public class Person {\n",
    "    public Person(string n) {\n",
    "        Name = n;\n",
    "    }\n",
    "    public Person(string n, int a) {\n",
    "        Name = n;\n",
    "        Age = a;\n",
    "    }\n",
    "\n",
    "    public string Name { get; set; }\n",
    "    public int Age { get; set; }\n",
    "}\n",
    "\n",
    "var people = new List<Person>\n",
    "{\n",
    "    new Person (\"Tom\", 23),\n",
    "    new Person (\"Bob\", 27),\n",
    "    new Person (\"Sam\", 29),\n",
    "    new Person (\"Alice\", 24)\n",
    "};\n",
    "\n",
    "var names = people.Select(u => u.Name);\n",
    "\n",
    "foreach (string n in names)\n",
    "{\n",
    "    Console.WriteLine(n);\n",
    "}"
   ]
  },
  {
   "cell_type": "markdown",
   "metadata": {},
   "source": [
    "## Where\n",
    "\n",
    "Where фильтрует набор значений базируясь на `Func<TSource,bool>` предикате. В данном примере мы хотим получить только зеленые круги. Набор результатов может быть таким же, меньшим или даже пустым.\n",
    "\n",
    "![Where](./.media/where.png)\n",
    "\n",
    "Пример:"
   ]
  },
  {
   "cell_type": "code",
   "execution_count": 6,
   "metadata": {
    "dotnet_interactive": {
     "language": "csharp"
    },
    "polyglot_notebook": {
     "kernelName": "csharp"
    },
    "vscode": {
     "languageId": "polyglot-notebook"
    }
   },
   "outputs": [
    {
     "name": "stdout",
     "output_type": "stream",
     "text": [
      "banan\n",
      "mango\n",
      "grape\n"
     ]
    }
   ],
   "source": [
    "List<string> fruits =\n",
    "    new List<string> { \"jabłko\", \"marakuja\", \"banan\", \"mango\",\n",
    "                    \"pomarańcza\", \"borówka\", \"winogrono\", \"truskawka\" };\n",
    "\n",
    "IEnumerable<string> query = fruits.Where(fruit => fruit.Length < 6);\n",
    "\n",
    "foreach (string fruit in query)\n",
    "{\n",
    "    Console.WriteLine(fruit);\n",
    "}\n",
    "\n",
    "query = fruits.Where(fruit => fruit.Length > 6);\n",
    "\n",
    "foreach (string fruit in query)\n",
    "{\n",
    "    Console.WriteLine(fruit);\n",
    "}"
   ]
  }
 ],
 "metadata": {
  "language_info": {
   "name": "csharp"
  },
  "orig_nbformat": 4
 },
 "nbformat": 4,
 "nbformat_minor": 2
}
