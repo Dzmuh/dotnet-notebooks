{
 "cells": [
  {
   "cell_type": "markdown",
   "metadata": {},
   "source": [
    "# Объяснение основных методов LINQ в .NET\n",
    "\n",
    "Начиная работать с LINQ методами, можно не до конца понимать принцип их работы, в этом блокноте объясняем как работают основные методы LINQ."
   ]
  },
  {
   "cell_type": "markdown",
   "metadata": {},
   "source": [
    "## Select\n",
    "\n",
    "С помощью метода `Select` мы создаем проекцию одного элемента на другой. Проще говоря, мы сопоставляем наш заданный тип с желаемым типом. Результирующий набор содержит то же количество элементов, что и исходный набор данных.\n",
    "\n",
    "![Select](./.media/select.png)\n",
    "\n",
    "Пример:"
   ]
  },
  {
   "cell_type": "code",
   "execution_count": 8,
   "metadata": {
    "dotnet_interactive": {
     "language": "csharp"
    },
    "polyglot_notebook": {
     "kernelName": "csharp"
    },
    "vscode": {
     "languageId": "polyglot-notebook"
    }
   },
   "outputs": [
    {
     "name": "stdout",
     "output_type": "stream",
     "text": [
      "Tom\n",
      "Bob\n",
      "Sam\n",
      "Alice\n"
     ]
    }
   ],
   "source": [
    "class Person {\n",
    "    public Person(string n) {\n",
    "        Name = n;\n",
    "    }\n",
    "    public Person(string n, int a) {\n",
    "        Name = n;\n",
    "        Age = a;\n",
    "    }\n",
    "\n",
    "    public string Name { get; set; }\n",
    "    public int Age { get; set; }\n",
    "}\n",
    "\n",
    "var people = new List<Person>\n",
    "{\n",
    "    new Person (\"Tom\", 23),\n",
    "    new Person (\"Bob\", 27),\n",
    "    new Person (\"Sam\", 29),\n",
    "    new Person (\"Alice\", 24)\n",
    "};\n",
    "\n",
    "var names = people.Select(u => u.Name);\n",
    "\n",
    "foreach (string n in names)\n",
    "{\n",
    "    Console.WriteLine(n);\n",
    "}"
   ]
  },
  {
   "cell_type": "markdown",
   "metadata": {},
   "source": [
    "## Where\n",
    "\n",
    "Where фильтрует набор значений базируясь на `Func<TSource,bool>` предикате. В данном примере мы хотим получить только зеленые круги. Набор результатов может быть таким же, меньшим или даже пустым.\n",
    "\n",
    "![Where](./.media/where.png)\n",
    "\n",
    "Пример:"
   ]
  },
  {
   "cell_type": "code",
   "execution_count": 20,
   "metadata": {
    "dotnet_interactive": {
     "language": "csharp"
    },
    "polyglot_notebook": {
     "kernelName": "csharp"
    },
    "vscode": {
     "languageId": "polyglot-notebook"
    }
   },
   "outputs": [
    {
     "name": "stdout",
     "output_type": "stream",
     "text": [
      "banan\n",
      "mango\n",
      "marakuja\n",
      "pomarańcza\n",
      "borówka\n",
      "winogrono\n",
      "truskawka\n"
     ]
    }
   ],
   "source": [
    "List<string> fruits =\n",
    "    new List<string> { \"jabłko\", \"marakuja\", \"banan\", \"mango\",\n",
    "                    \"pomarańcza\", \"borówka\", \"winogrono\", \"truskawka\" };\n",
    "\n",
    "IEnumerable<string> query = fruits.Where(fruit => fruit.Length < 6);\n",
    "\n",
    "foreach (string fruit in query)\n",
    "{\n",
    "    Console.WriteLine(fruit);\n",
    "}\n",
    "\n",
    "query = fruits.Where(fruit => fruit.Length > 6);\n",
    "\n",
    "foreach (string fruit in query)\n",
    "{\n",
    "    Console.WriteLine(fruit);\n",
    "}"
   ]
  },
  {
   "cell_type": "markdown",
   "metadata": {},
   "source": [
    "## SelectMany\n",
    "\n",
    "SelectMany используется для выравнивания списков. Если у вас есть список внутри списка, мы можем использовать его, чтобы свести его к одномерному представлению.\n",
    "\n",
    "![SelectMany](./.media/selectmany.png)\n",
    "\n",
    "Пример:"
   ]
  },
  {
   "cell_type": "code",
   "execution_count": 12,
   "metadata": {
    "vscode": {
     "languageId": "polyglot-notebook"
    }
   },
   "outputs": [
    {
     "name": "stdout",
     "output_type": "stream",
     "text": [
      "0: Scruffy\n",
      "0: Sam\n",
      "1: Walker\n",
      "1: Sugar\n",
      "2: Scratches\n",
      "2: Diesel\n",
      "3: Dusty\n"
     ]
    }
   ],
   "source": [
    "class PetOwner\n",
    "{\n",
    "    public string Name { get; set; }\n",
    "    public List<string> Pets { get; set; }\n",
    "}\n",
    "\n",
    "PetOwner[] petOwners = {\n",
    "    new PetOwner {\n",
    "        Name=\"Higa, Sidney\",\n",
    "        Pets = new List<string>{ \"Scruffy\", \"Sam\" }\n",
    "    },\n",
    "    new PetOwner {\n",
    "        Name=\"Ashkenazi, Ronen\",\n",
    "        Pets = new List<string>{ \"Walker\", \"Sugar\" }\n",
    "    },\n",
    "    new PetOwner {\n",
    "        Name=\"Price, Vernette\",\n",
    "        Pets = new List<string>{ \"Scratches\", \"Diesel\" }\n",
    "    },\n",
    "    new PetOwner {\n",
    "        Name=\"Hines, Patrick\",\n",
    "        Pets = new List<string>{ \"Dusty\" }\n",
    "    }\n",
    "};\n",
    "\n",
    "IEnumerable<string> query =\n",
    "    petOwners.SelectMany((petOwner, index) => petOwner.Pets.Select(pet => index + \": \" + pet));\n",
    "\n",
    "foreach (string pet in query)\n",
    "{\n",
    "    Console.WriteLine(pet);\n",
    "}"
   ]
  },
  {
   "cell_type": "markdown",
   "metadata": {},
   "source": [
    "## Zip\n",
    "\n",
    "С помощью Zip мы «объединяем» два списка с помощью заданной функции слияния. Мы объединяем объекты вместе, пока не закончатся объекты в любом из списков. Как видно из примера:  в первом списке 2 элемента, в втором — 3. Следовательно, результирующий набор содержит только 2 элемента.\n",
    "\n",
    "![Zip](./.media/zip.png)\n",
    "\n",
    "Пример:"
   ]
  },
  {
   "cell_type": "code",
   "execution_count": 13,
   "metadata": {
    "vscode": {
     "languageId": "polyglot-notebook"
    }
   },
   "outputs": [
    {
     "name": "stdout",
     "output_type": "stream",
     "text": [
      "1 one\n",
      "2 two\n",
      "3 three\n"
     ]
    }
   ],
   "source": [
    "int[] numbers = { 1, 2, 3, 4 };\n",
    "string[] words = { \"one\", \"two\", \"three\" };\n",
    "\n",
    "var numbersAndWords = numbers.Zip(words, (first, second) => first + \" \" + second);\n",
    "\n",
    "foreach (var item in numbersAndWords)\n",
    "{\n",
    "    Console.WriteLine(item);\n",
    "}"
   ]
  },
  {
   "cell_type": "markdown",
   "metadata": {},
   "source": [
    "## OrderBy\n",
    "\n",
    "OrderBy сортирует элементы последовательности в порядке возрастания. Результирующий набор содержит то же количество элементов, что и исходный набор.\n",
    "\n",
    "![OrderBy](./.media/orderby.png)\n",
    "\n",
    "Пример:"
   ]
  },
  {
   "cell_type": "code",
   "execution_count": 15,
   "metadata": {
    "vscode": {
     "languageId": "polyglot-notebook"
    }
   },
   "outputs": [
    {
     "name": "stdout",
     "output_type": "stream",
     "text": [
      "Whiskers - 1\n",
      "Boots - 4\n",
      "Barley - 8\n"
     ]
    }
   ],
   "source": [
    "class Pet\n",
    "{\n",
    "    public string Name { get; set; }\n",
    "    public int Age { get; set; }\n",
    "}\n",
    "\n",
    "Pet[] pets = {\n",
    "    new Pet { Name=\"Barley\",   Age=8 },\n",
    "    new Pet { Name=\"Boots\",    Age=4 },\n",
    "    new Pet { Name=\"Whiskers\", Age=1 }\n",
    "};\n",
    "\n",
    "IEnumerable<Pet> query = pets.OrderBy(pet => pet.Age);\n",
    "\n",
    "foreach (Pet pet in query)\n",
    "{\n",
    "    Console.WriteLine(\"{0} - {1}\", pet.Name, pet.Age);\n",
    "}"
   ]
  },
  {
   "cell_type": "markdown",
   "metadata": {},
   "source": [
    "## Distinct\n",
    "\n",
    "Distinct возвращает новый enumerable, в котором удаляются все дубликаты, что-то похожее на Set. Обратите внимание, что для ссылочного типа по умолчанию проверяется равенство ссылок, что может привести к ложным результатам. Результирующий набор может быть таким же или меньшим.\n",
    "\n",
    "![Distinct](./.media/distinct.png)\n",
    "\n",
    "Пример:"
   ]
  },
  {
   "cell_type": "code",
   "execution_count": 16,
   "metadata": {
    "vscode": {
     "languageId": "polyglot-notebook"
    }
   },
   "outputs": [
    {
     "name": "stdout",
     "output_type": "stream",
     "text": [
      "Distinct ages:\n",
      "21\n",
      "46\n",
      "55\n",
      "17\n"
     ]
    }
   ],
   "source": [
    "List<int> ages = new List<int> { 21, 46, 46, 55, 17, 21, 55, 55 };\n",
    "IEnumerable<int> distinctAges = ages.Distinct();\n",
    "\n",
    "Console.WriteLine(\"Distinct ages:\");\n",
    "\n",
    "foreach (int age in distinctAges)\n",
    "{\n",
    "    Console.WriteLine(age);\n",
    "}"
   ]
  },
  {
   "cell_type": "markdown",
   "metadata": {},
   "source": [
    "## DistinctBy\n",
    "\n",
    "DistinctBy работает аналогично Distinct, но вместо уровня самого объекта мы можем определить проекцию на свойство, где мы хотим получить отдельный набор результатов.\n",
    "\n",
    "![DistinctBy](./.media/distinctby.png)\n",
    "\n",
    "Пример использования DistinctBy:"
   ]
  },
  {
   "cell_type": "code",
   "execution_count": 17,
   "metadata": {
    "vscode": {
     "languageId": "polyglot-notebook"
    }
   },
   "outputs": [
    {
     "name": "stdout",
     "output_type": "stream",
     "text": [
      "Agent Ethan Hunt is 40\n",
      "Agent Jason Bourne is 35\n",
      "Agent Evelyn Salt is 30\n",
      "Agent Jack Ryan is 36\n",
      "Agent Natasha Romanoff is 33\n"
     ]
    }
   ],
   "source": [
    "public record Agent\n",
    "{\n",
    "    public string Name { get; init; }\n",
    "    public byte Age { get; init; }\n",
    "}\n",
    "\n",
    "var agents = new[]\n",
    "{\n",
    "    new Agent() {Name = \"Ethan Hunt\", Age = 40},\n",
    "    new Agent() {Name = \"James Bond\", Age = 40},\n",
    "    new Agent() {Name = \"Jason Bourne\", Age = 35},\n",
    "    new Agent() {Name = \"Evelyn Salt\", Age = 30},\n",
    "    new Agent() {Name = \"Jack Ryan\", Age = 36},\n",
    "    new Agent() {Name = \"Jane Smith\", Age = 35},\n",
    "    new Agent() {Name = \"Oren Ishii\", Age = 30},\n",
    "    new Agent() {Name = \"Natasha Romanoff\", Age = 33}\n",
    "};\n",
    "\n",
    "var distinctlyAgedAgents = agents.DistinctBy(x => x.Age);\n",
    "\n",
    "foreach (var agent in distinctlyAgedAgents)\n",
    "{\n",
    "    Console.WriteLine($\"Agent {agent.Name} is {agent.Age}\");\n",
    "}"
   ]
  },
  {
   "cell_type": "markdown",
   "metadata": {},
   "source": [
    "## Aggregate\n",
    "\n",
    "Метод также известен как «reduce». Основная идея состоит в том, чтобы объединить/свести набор входных данных к одному значению. Сумма списка будет примером агрегата. Также яркими примерами могут быть определение среднего / максимального / минимального значения. Он всегда начинается с начального значения, и каждый отдельный элемент в списке агрегируется заданной пользователем функцией сверху.\n",
    "\n",
    "![Aggregate](./.media/aggregate.png)\n",
    "\n",
    "Пример использования метода Aggregate:"
   ]
  },
  {
   "cell_type": "code",
   "execution_count": 21,
   "metadata": {
    "vscode": {
     "languageId": "polyglot-notebook"
    }
   },
   "outputs": [
    {
     "name": "stdout",
     "output_type": "stream",
     "text": [
      "Фрукт с самым длинным названием POMARAŃCZA.\r\n"
     ]
    }
   ],
   "source": [
    "string[] fruits = { \"jabłko\", \"marakuja\", \"banan\", \"mango\", \"pomarańcza\", \"borówka\", \"winogrono\", \"truskawka\" };\n",
    "\n",
    "// Определим есть ли в массиве строка длиннее чем \"banan\".\n",
    "string longestName =\n",
    "    fruits.Aggregate(\"banan\", (longest, next) =>\n",
    "                     next.Length > longest.Length ? next : longest,\n",
    "                    // Возвращает окончательный результат в виде строки в верхнем регистре.\n",
    "                    fruit => fruit.ToUpper());\n",
    "\n",
    "// Самым длинным именем фрукта в примере должен быть POMARAŃCZA.\n",
    "Console.WriteLine(\"Фрукт с самым длинным названием {0}.\", longestName);"
   ]
  },
  {
   "cell_type": "markdown",
   "metadata": {},
   "source": [
    "## Chunk\n",
    "\n",
    "Разбивает 1 список на несколько списков с заданным размером. Работает начиная с .NET 6.\n",
    "\n",
    "![Chunk](./.media/chunk.png)\n",
    "\n",
    "Пример использования Chunk:"
   ]
  },
  {
   "cell_type": "code",
   "execution_count": 40,
   "metadata": {
    "vscode": {
     "languageId": "polyglot-notebook"
    }
   },
   "outputs": [
    {
     "name": "stdout",
     "output_type": "stream",
     "text": [
      "Секция: \n",
      "1\n",
      "2\n",
      "3\n",
      "4\n",
      "5\n",
      "6\n",
      "7\n",
      "8\n",
      "9\n",
      "10\n",
      "11\n",
      "12\n",
      "Секция: \n",
      "13\n",
      "14\n",
      "15\n",
      "16\n",
      "17\n",
      "18\n",
      "19\n",
      "20\n",
      "21\n",
      "22\n",
      "23\n",
      "24\n",
      "Секция: \n",
      "25\n",
      "26\n"
     ]
    }
   ],
   "source": [
    "// Даём перечисление\n",
    "var e = Enumerable.Range(1, 26);\n",
    "\n",
    "// Разбиваем его на части\n",
    "var chunks = e.Chunk(12);\n",
    "\n",
    "// Пример, где мы перебираем части\n",
    "foreach(var chunk in chunks) // Берём части\n",
    "{\n",
    "    Console.WriteLine(\"Секция: \");\n",
    "\n",
    "    foreach(var item in chunk) // Перебираем все элементы в выбраной части\n",
    "    {\n",
    "        Console.WriteLine(item);\n",
    "    }\n",
    "}"
   ]
  },
  {
   "cell_type": "markdown",
   "metadata": {},
   "source": [
    "Подробнее:\n",
    "\n",
    "* [Enumerable.Chunk](https://learn.microsoft.com/ru-ru/dotnet/api/system.linq.enumerable.chunk)\n",
    "* [Queryable.Chunk](https://learn.microsoft.com/ru-ru/dotnet/api/system.linq.queryable.chunk)\n",
    "* [Секционирование данных в LINQ](https://learn.microsoft.com/ru-ru/dotnet/csharp/programming-guide/concepts/linq/partitioning-data)"
   ]
  },
  {
   "cell_type": "markdown",
   "metadata": {},
   "source": [
    "## Union\n",
    "\n",
    "Самое простое объяснение того как это работает: представьте, что у вы смержили 2 списка в один, и вызвали [Distinct](#Distinct).\n",
    "\n",
    "![Union](./.media/union.png)\n",
    "\n",
    "Пример использования Union:"
   ]
  },
  {
   "cell_type": "code",
   "execution_count": 41,
   "metadata": {
    "vscode": {
     "languageId": "polyglot-notebook"
    }
   },
   "outputs": [
    {
     "name": "stdout",
     "output_type": "stream",
     "text": [
      "5 3 9 7 8 6 4 1 0 "
     ]
    }
   ],
   "source": [
    "int[] ints1 = { 5, 3, 9, 7, 5, 9, 3, 7 };\n",
    "int[] ints2 = { 8, 3, 6, 4, 4, 9, 1, 0 };\n",
    "\n",
    "IEnumerable<int> union = ints1.Union(ints2);\n",
    "\n",
    "foreach (int num in union)\n",
    "{\n",
    "    Console.Write(\"{0} \", num);\n",
    "}"
   ]
  },
  {
   "cell_type": "markdown",
   "metadata": {},
   "source": [
    "Это прекрасно работает как с числами, так и со строками."
   ]
  },
  {
   "cell_type": "code",
   "execution_count": 43,
   "metadata": {
    "vscode": {
     "languageId": "polyglot-notebook"
    }
   },
   "outputs": [
    {
     "name": "stdout",
     "output_type": "stream",
     "text": [
      "один два три пять четыре шесть "
     ]
    }
   ],
   "source": [
    "string[] strs1 = { \"один\", \"два\", \"три\", \"пять\", \"три\" };\n",
    "string[] strs2 = { \"два\", \"четыре\", \"пять\", \"шесть\" };\n",
    "\n",
    "IEnumerable<string> unions = strs1.Union(strs2);\n",
    "\n",
    "foreach (string strs in unions)\n",
    "{\n",
    "    Console.Write(\"{0} \", strs);\n",
    "}"
   ]
  },
  {
   "cell_type": "markdown",
   "metadata": {},
   "source": [
    "## Intersect\n",
    "\n",
    "Работает аналогично [Union](#Union), но теперь мы проверяем, какие элементы присутствуют в списке A и списке B. В результирующем наборе будут только элементы, присутствующие в обоих списках. Также здесь: в новом списке только уникальные айтемы. Дубликаты удаляются автоматически.\n",
    "\n",
    "![Intersect](./.media/intersect.png)\n",
    "\n",
    "Пример использования Intersect:"
   ]
  },
  {
   "cell_type": "code",
   "execution_count": 48,
   "metadata": {
    "vscode": {
     "languageId": "polyglot-notebook"
    }
   },
   "outputs": [
    {
     "name": "stdout",
     "output_type": "stream",
     "text": [
      "26\n",
      "30\n"
     ]
    }
   ],
   "source": [
    "int[] id1 = { 44, 26, 92, 30, 71, 38 };\n",
    "int[] id2 = { 39, 59, 83, 47, 26, 4, 30 };\n",
    "\n",
    "IEnumerable<int> both = id1.Intersect(id2);\n",
    "\n",
    "foreach (int id in both)\n",
    "{\n",
    "    Console.WriteLine(id);\n",
    "}"
   ]
  },
  {
   "cell_type": "markdown",
   "metadata": {},
   "source": [
    "Это прекрасно работает как с числами, так и со строками."
   ]
  },
  {
   "cell_type": "code",
   "execution_count": 49,
   "metadata": {
    "vscode": {
     "languageId": "polyglot-notebook"
    }
   },
   "outputs": [
    {
     "name": "stdout",
     "output_type": "stream",
     "text": [
      "два\n",
      "пять\n"
     ]
    }
   ],
   "source": [
    "string[] strid1 = { \"один\", \"два\", \"три\", \"пять\", \"три\" };\n",
    "string[] strid2 = { \"два\", \"четыре\", \"пять\", \"шесть\" };\n",
    "\n",
    "IEnumerable<string> both = strid1.Intersect(strid2);\n",
    "\n",
    "foreach (string str in both)\n",
    "{\n",
    "    Console.WriteLine(str);\n",
    "}"
   ]
  },
  {
   "cell_type": "markdown",
   "metadata": {},
   "source": [
    "## Any\n",
    "\n",
    "Any проверяет, удовлетворяет ли хотя бы один элемент вашему условию. Если это так, он возвращает `true`. Если нет элемента, удовлетворяющего условию, возвращается `false`.\n",
    "\n",
    "![Any](./.media/any.png)\n",
    "\n",
    "Пример использования Any:"
   ]
  },
  {
   "cell_type": "code",
   "execution_count": 50,
   "metadata": {
    "vscode": {
     "languageId": "polyglot-notebook"
    }
   },
   "outputs": [
    {
     "name": "stdout",
     "output_type": "stream",
     "text": [
      "The list is not empty.\r\n"
     ]
    }
   ],
   "source": [
    "List<int> numbers = new List<int> { 1, 2 };\n",
    "bool hasElements = numbers.Any();\n",
    "\n",
    "Console.WriteLine(\"The list {0} empty.\", hasElements ? \"is not\" : \"is\");"
   ]
  },
  {
   "cell_type": "markdown",
   "metadata": {},
   "source": [
    "## All\n",
    "\n",
    "Как следует из названия, проверяет, удовлетворяют ли ВСЕ ваши элементы в списке определенному условию. Если да, то возвращает `true`, иначе `false`.\n",
    "\n",
    "![All](./.media/all.png)\n",
    "\n",
    "Пример использования All:"
   ]
  },
  {
   "cell_type": "code",
   "execution_count": 54,
   "metadata": {
    "vscode": {
     "languageId": "polyglot-notebook"
    }
   },
   "outputs": [
    {
     "name": "stdout",
     "output_type": "stream",
     "text": [
      "Not all pet names start with 'B'.\r\n"
     ]
    }
   ],
   "source": [
    "class Pet\n",
    "{\n",
    "    public string Name { get; set; }\n",
    "    public int Age { get; set; }\n",
    "}\n",
    "\n",
    "// Create an array of Pets.\n",
    "Pet[] pets = {  \n",
    "    new Pet { Name=\"Barley\",   Age=10 },\n",
    "    new Pet { Name=\"Boots\",    Age=4 },\n",
    "    new Pet { Name=\"Whiskers\", Age=6 }\n",
    "};\n",
    "\n",
    "// Determine whether all pet names\n",
    "// in the array start with 'B'.\n",
    "bool allStartWithB = pets.All(pet => pet.Name.StartsWith(\"B\"));\n",
    "\n",
    "Console.WriteLine(\n",
    "    \"{0} pet names start with 'B'.\",\n",
    "    allStartWithB ? \"All\" : \"Not all\");"
   ]
  },
  {
   "cell_type": "markdown",
   "metadata": {},
   "source": [
    "## Append\n",
    "\n",
    "Append помещает данный элемент в конец списка.\n",
    "\n",
    "![Append](./.media/append.png)\n",
    "\n",
    "Пример использования Append:"
   ]
  },
  {
   "cell_type": "code",
   "execution_count": 56,
   "metadata": {
    "vscode": {
     "languageId": "polyglot-notebook"
    }
   },
   "outputs": [
    {
     "name": "stdout",
     "output_type": "stream",
     "text": [
      "1\n",
      "2\n",
      "3\n",
      "4\n",
      "5\n"
     ]
    }
   ],
   "source": [
    "List<int> numbers = new List<int> { 1, 2, 3, 4 };                  \n",
    "List<int> newNumbers = numbers.Append(5).ToList();\n",
    "\n",
    "foreach (int i in newNumbers)\n",
    "{\n",
    "    Console.WriteLine(i);\n",
    "}"
   ]
  },
  {
   "cell_type": "markdown",
   "metadata": {},
   "source": [
    "## Prepend\n",
    "\n",
    "Помещает заданный элемент в начало списка.\n",
    "\n",
    "![Prepend](./.media/prepend.png)\n",
    "\n",
    "Пример использования Prepend:"
   ]
  },
  {
   "cell_type": "code",
   "execution_count": 57,
   "metadata": {
    "vscode": {
     "languageId": "polyglot-notebook"
    }
   },
   "outputs": [
    {
     "name": "stdout",
     "output_type": "stream",
     "text": [
      "0\n",
      "1\n",
      "2\n",
      "3\n",
      "4\n"
     ]
    }
   ],
   "source": [
    "List<int> numbers = new List<int> { 1, 2, 3, 4 };\n",
    "List<int> newNumbers = numbers.Prepend(0).ToList();\n",
    "\n",
    "foreach (int i in newNumbers)\n",
    "{\n",
    "    Console.WriteLine(i);\n",
    "}"
   ]
  },
  {
   "cell_type": "markdown",
   "metadata": {},
   "source": [
    "## MaxBy\n",
    "\n",
    "С помощью MaxBy, а также MinBy мы также можем сделать проекцию на свойство нашего класса и получить объект, где именно это свойство является «самым большим».\n",
    "\n",
    "![MaxBy](./.media/maxby.png)\n",
    "\n",
    "Пример использования MaxBy:"
   ]
  },
  {
   "cell_type": "code",
   "execution_count": 63,
   "metadata": {
    "vscode": {
     "languageId": "polyglot-notebook"
    }
   },
   "outputs": [
    {
     "name": "stdout",
     "output_type": "stream",
     "text": [
      "Jane Smith"
     ]
    }
   ],
   "source": [
    "class Person {\n",
    "    public string Name { get; set; }\n",
    "    public int Age { get; set; }\n",
    "}\n",
    "\n",
    "List<Person> peoples = new List<Person>\n",
    "{\n",
    "    new Person\n",
    "    {\n",
    "        Name = \"John Smith\",\n",
    "        Age = 20\n",
    "    },\n",
    "    new Person\n",
    "    {\n",
    "        Name = \"Jane Smith\",\n",
    "        Age = 30\n",
    "    }\n",
    "};\n",
    "\n",
    "Console.Write(peoples.MaxBy(x => x.Age).Name);"
   ]
  },
  {
   "cell_type": "markdown",
   "metadata": {},
   "source": [
    "## ToLookup\n",
    "\n",
    "Создает универсальный объект `Lookup<TKey,TElement>` из объекта `IEnumerable<T>`. Lookup определяется тем, что у нас есть ключ, который может указывать на список объектов (отношение 1 к n). Первый аргумент принимает \"key\"-селектор. Второй селектор — это «значение». Это может быть сам объект или свойство самого объекта. В конце у нас есть список различных ключей, в которых значения имеют именно этот ключ. Объект LookUp неизменяем.\n",
    "\n",
    "![ToLookup](./.media/tolookup.png)\n",
    "\n",
    "Пример использования ToLookup:"
   ]
  },
  {
   "cell_type": "code",
   "execution_count": 66,
   "metadata": {
    "vscode": {
     "languageId": "polyglot-notebook"
    }
   },
   "outputs": [
    {
     "name": "stdout",
     "output_type": "stream",
     "text": [
      "C\n",
      "    Coho Vineyard 89453312\n",
      "    Contoso Pharmaceuticals 670053128\n",
      "L\n",
      "    Lucerne Publishing 89112755\n",
      "W\n",
      "    Wingtip Toys 299456122\n",
      "    Wide World Importers 4665518773\n"
     ]
    }
   ],
   "source": [
    "class Package\n",
    "{\n",
    "    public string Company { get; set; }\n",
    "    public double Weight { get; set; }\n",
    "    public long TrackingNumber { get; set; }\n",
    "}\n",
    "\n",
    "// Create a list of Packages.\n",
    "List<Package> packages =\n",
    "    new List<Package>\n",
    "    { \n",
    "        new Package {\n",
    "            Company = \"Coho Vineyard\",\n",
    "            Weight = 25.2,\n",
    "            TrackingNumber = 89453312L\n",
    "        },\n",
    "        new Package {\n",
    "            Company = \"Lucerne Publishing\",\n",
    "            Weight = 18.7,\n",
    "            TrackingNumber = 89112755L\n",
    "        },\n",
    "        new Package {\n",
    "            Company = \"Wingtip Toys\",\n",
    "            Weight = 6.0,\n",
    "            TrackingNumber = 299456122L\n",
    "        },\n",
    "        new Package {\n",
    "            Company = \"Contoso Pharmaceuticals\",\n",
    "            Weight = 9.3,\n",
    "            TrackingNumber = 670053128L\n",
    "        },\n",
    "        new Package {\n",
    "            Company = \"Wide World Importers\",\n",
    "            Weight = 33.8,\n",
    "            TrackingNumber = 4665518773L\n",
    "        }\n",
    "    };\n",
    "\n",
    "// Create a Lookup to organize the packages.\n",
    "// Use the first character of Company as the key value.\n",
    "// Select Company appended to TrackingNumber\n",
    "// as the element values of the Lookup.\n",
    "ILookup<char, string> lookup =\n",
    "    packages.ToLookup(p => p.Company[0], p => p.Company + \" \" + p.TrackingNumber);\n",
    "\n",
    "// Iterate through each IGrouping in the Lookup.\n",
    "foreach (IGrouping<char, string> packageGroup in lookup)\n",
    "{\n",
    "    // Print the key value of the IGrouping.\n",
    "    Console.WriteLine(packageGroup.Key);\n",
    "\n",
    "    // Iterate through each value in the\n",
    "    // IGrouping and print its value.\n",
    "    foreach (string str in packageGroup)\n",
    "    {\n",
    "        Console.WriteLine(\"    {0}\", str);\n",
    "    }\n",
    "}"
   ]
  },
  {
   "cell_type": "markdown",
   "metadata": {},
   "source": [
    "## ToDictionary\n",
    "\n",
    "ToDictionary работает аналогично ToLookup с одним ключевым отличием. Метод ToDictionary допускает только отношения 1 к 1. Если два элемента используют один и тот же ключ, это приведет к исключению, что ключ уже присутствует.\n",
    "\n",
    "![ToDictionary](./.media/todictionary.png)\n",
    "\n",
    "Пример использования ToDictionary:"
   ]
  },
  {
   "cell_type": "code",
   "execution_count": 67,
   "metadata": {
    "vscode": {
     "languageId": "polyglot-notebook"
    }
   },
   "outputs": [
    {
     "name": "stdout",
     "output_type": "stream",
     "text": [
      "Key 89453312: Coho Vineyard, 25,2 pounds\n",
      "Key 89112755: Lucerne Publishing, 18,7 pounds\n",
      "Key 299456122: Wingtip Toys, 6 pounds\n",
      "Key 4665518773: Adventure Works, 33,8 pounds\n"
     ]
    }
   ],
   "source": [
    "class Package\n",
    "{\n",
    "    public string Company { get; set; }\n",
    "    public double Weight { get; set; }\n",
    "    public long TrackingNumber { get; set; }\n",
    "}\n",
    "\n",
    "List<Package> packages =\n",
    "    new List<Package> {\n",
    "        new Package {\n",
    "            Company = \"Coho Vineyard\", \n",
    "            Weight = 25.2, \n",
    "            TrackingNumber = 89453312L \n",
    "            },\n",
    "        new Package {\n",
    "            Company = \"Lucerne Publishing\",\n",
    "            Weight = 18.7,\n",
    "            TrackingNumber = 89112755L\n",
    "            },\n",
    "        new Package {\n",
    "            Company = \"Wingtip Toys\", \n",
    "            Weight = 6.0, \n",
    "            TrackingNumber = 299456122L\n",
    "            },\n",
    "        new Package {\n",
    "            Company = \"Adventure Works\", \n",
    "            Weight = 33.8, \n",
    "            TrackingNumber = 4665518773L\n",
    "            } \n",
    "    };\n",
    "\n",
    "// Create a Dictionary of Package objects,\n",
    "// using TrackingNumber as the key.\n",
    "Dictionary<long, Package> dictionary = packages.ToDictionary(p => p.TrackingNumber);\n",
    "\n",
    "foreach (KeyValuePair<long, Package> kvp in dictionary)\n",
    "{\n",
    "    Console.WriteLine(\n",
    "        \"Key {0}: {1}, {2} pounds\",\n",
    "        kvp.Key,\n",
    "        kvp.Value.Company,\n",
    "        kvp.Value.Weight);\n",
    "}"
   ]
  },
  {
   "cell_type": "markdown",
   "metadata": {},
   "source": [
    "## Join\n",
    "\n",
    "Join работает аналогично к SQL left-join.\n",
    "\n",
    "![Join](./.media/join.png)\n",
    "\n",
    "Пример использования Join:"
   ]
  },
  {
   "cell_type": "code",
   "execution_count": 68,
   "metadata": {
    "vscode": {
     "languageId": "polyglot-notebook"
    }
   },
   "outputs": [
    {
     "name": "stdout",
     "output_type": "stream",
     "text": [
      "Hedlund, Magnus - Daisy\n",
      "Adams, Terry - Barley\n",
      "Adams, Terry - Boots\n",
      "Weiss, Charlotte - Whiskers\n"
     ]
    }
   ],
   "source": [
    "class Person\n",
    "{\n",
    "    public string Name { get; set; }\n",
    "}\n",
    "\n",
    "class Pet\n",
    "{\n",
    "    public string Name { get; set; }\n",
    "    public Person Owner { get; set; }\n",
    "}\n",
    "\n",
    "Person magnus    = new Person { Name = \"Hedlund, Magnus\" };\n",
    "Person terry     = new Person { Name = \"Adams, Terry\" };\n",
    "Person charlotte = new Person { Name = \"Weiss, Charlotte\" };\n",
    "\n",
    "Pet barley       = new Pet { Name = \"Barley\", Owner = terry };\n",
    "Pet boots        = new Pet { Name = \"Boots\", Owner = terry };\n",
    "Pet whiskers     = new Pet { Name = \"Whiskers\", Owner = charlotte };\n",
    "Pet daisy        = new Pet { Name = \"Daisy\", Owner = magnus };\n",
    "\n",
    "List<Person> people = new List<Person> { magnus, terry, charlotte };\n",
    "List<Pet>    pets   = new List<Pet> { barley, boots, whiskers, daisy };\n",
    "\n",
    "// Create a list of Person-Pet pairs where\n",
    "// each element is an anonymous type that contains a\n",
    "// Pet's name and the name of the Person that owns the Pet.\n",
    "var query =\n",
    "    people.Join(pets,\n",
    "                person => person,\n",
    "                pet => pet.Owner,\n",
    "                (person, pet) =>\n",
    "                    new { OwnerName = person.Name, Pet = pet.Name });\n",
    "\n",
    "foreach (var obj in query)\n",
    "{\n",
    "    Console.WriteLine(\n",
    "        \"{0} - {1}\",\n",
    "        obj.OwnerName,\n",
    "        obj.Pet);\n",
    "}"
   ]
  },
  {
   "cell_type": "markdown",
   "metadata": {},
   "source": [
    "## Take\n",
    "\n",
    "Take позволяет нам получить заданное количество элементов из массива. Если у нас меньше элементов в массиве, чем мы хотим получить, то Take() вернет только оставшиеся объекты.\n",
    "\n",
    "![Take](./.media/take.png)\n",
    "\n",
    "Пример использования Take:"
   ]
  },
  {
   "cell_type": "code",
   "execution_count": 69,
   "metadata": {
    "vscode": {
     "languageId": "polyglot-notebook"
    }
   },
   "outputs": [
    {
     "name": "stdout",
     "output_type": "stream",
     "text": [
      "The top three grades are:\n",
      "98\n",
      "92\n",
      "85\n"
     ]
    }
   ],
   "source": [
    "int[] grades = { 59, 82, 70, 56, 92, 98, 85 };\n",
    "\n",
    "IEnumerable<int> topThreeGrades =\n",
    "    grades.OrderByDescending(grade => grade).Take(3);\n",
    "\n",
    "Console.WriteLine(\"The top three grades are:\");\n",
    "\n",
    "foreach (int grade in topThreeGrades)\n",
    "{\n",
    "    Console.WriteLine(grade);\n",
    "}"
   ]
  },
  {
   "cell_type": "markdown",
   "metadata": {},
   "source": [
    "## Skip\n",
    "\n",
    "С помощью Skip мы «пропускаем» заданное количество элементов. Если мы пропустим больше элементов, чем содержится в нашем списке, мы получим обратно пустое перечисление. Сочетание Take and Skip может быть очень полезным для таких вещей, как пагинация.\n",
    "\n",
    "![Skip](./.media/skip.png)\n",
    "\n",
    "Пример использования Skip:"
   ]
  },
  {
   "cell_type": "code",
   "execution_count": 70,
   "metadata": {
    "vscode": {
     "languageId": "polyglot-notebook"
    }
   },
   "outputs": [
    {
     "name": "stdout",
     "output_type": "stream",
     "text": [
      "All grades except the top three are:\n",
      "82\n",
      "70\n",
      "59\n",
      "56\n"
     ]
    }
   ],
   "source": [
    "int[] grades = { 59, 82, 70, 56, 92, 98, 85 };\n",
    "\n",
    "IEnumerable<int> lowerGrades =\n",
    "    grades.OrderByDescending(g => g).Skip(3);\n",
    "\n",
    "Console.WriteLine(\"All grades except the top three are:\");\n",
    "foreach (int grade in lowerGrades)\n",
    "{\n",
    "    Console.WriteLine(grade);\n",
    "}"
   ]
  },
  {
   "cell_type": "markdown",
   "metadata": {},
   "source": [
    "## OfType\n",
    "\n",
    "OfType проверяет каждый элемент в перечислении на предмет того, относится ли он к заданному типу (унаследованные типы также считаются данным типом) и возвращает их в новом перечислении. Это особенно помогает, если у нас есть нетипизированные массивы (объекты) или нам нужен специальный подкласс данного перечисления.\n",
    "\n",
    "![OfType](./.media/oftype.png)\n",
    "\n",
    "Пример использования OfType:"
   ]
  },
  {
   "cell_type": "code",
   "execution_count": 71,
   "metadata": {
    "vscode": {
     "languageId": "polyglot-notebook"
    }
   },
   "outputs": [
    {
     "name": "stdout",
     "output_type": "stream",
     "text": [
      "Elements of type 'string' are:\n",
      "Mango\n",
      "Orange\n",
      "Apple\n",
      "Banana\n",
      "\n",
      "The following strings contain 'n':\n",
      "Mango\n",
      "Orange\n",
      "Banana\n"
     ]
    }
   ],
   "source": [
    "System.Collections.ArrayList fruits = new System.Collections.ArrayList(4);\n",
    "fruits.Add(\"Mango\");\n",
    "fruits.Add(\"Orange\");\n",
    "fruits.Add(\"Apple\");\n",
    "fruits.Add(3.0);\n",
    "fruits.Add(\"Banana\");\n",
    "\n",
    "// Apply OfType() to the ArrayList.\n",
    "IEnumerable<string> query1 = fruits.OfType<string>();\n",
    "\n",
    "Console.WriteLine(\"Elements of type 'string' are:\");\n",
    "foreach (string fruit in query1)\n",
    "{\n",
    "    Console.WriteLine(fruit);\n",
    "}\n",
    "\n",
    "// The following query shows that the standard query operators such as\n",
    "// Where() can be applied to the ArrayList type after calling OfType().\n",
    "IEnumerable<string> query2 =\n",
    "    fruits.OfType<string>().Where(fruit => fruit.ToLower().Contains(\"n\"));\n",
    "\n",
    "Console.WriteLine(\"\\nThe following strings contain 'n':\");\n",
    "foreach (string fruit in query2)\n",
    "{\n",
    "    Console.WriteLine(fruit);\n",
    "}"
   ]
  },
  {
   "cell_type": "markdown",
   "metadata": {},
   "source": [
    "## GroupBy\n",
    "\n",
    "Группирует элементы последовательности в соответствии с заданной функцией селектора ключа и создает результирующее значение для каждой группы и ее ключа.\n",
    "\n",
    "![GroupBy](./.media/groupby.png)\n",
    "\n",
    "Пример использования GroupBy:"
   ]
  },
  {
   "cell_type": "code",
   "execution_count": 74,
   "metadata": {
    "vscode": {
     "languageId": "polyglot-notebook"
    }
   },
   "outputs": [
    {
     "name": "stdout",
     "output_type": "stream",
     "text": [
      "\n",
      "Age group: 8\n",
      "Number of pets in this age group: 1\n",
      "Minimum age: 8,3\n",
      "Maximum age: 8,3\n",
      "\n",
      "Age group: 4\n",
      "Number of pets in this age group: 2\n",
      "Minimum age: 4,3\n",
      "Maximum age: 4,9\n",
      "\n",
      "Age group: 1\n",
      "Number of pets in this age group: 1\n",
      "Minimum age: 1,5\n",
      "Maximum age: 1,5\n"
     ]
    }
   ],
   "source": [
    "class Pet\n",
    "{\n",
    "    public string Name { get; set; }\n",
    "    public double Age { get; set; }\n",
    "}\n",
    "\n",
    "// Create a list of pets.\n",
    "List<Pet> petsList =\n",
    "    new List<Pet>{ new Pet { Name=\"Barley\", Age=8.3 },\n",
    "                    new Pet { Name=\"Boots\", Age=4.9 },\n",
    "                    new Pet { Name=\"Whiskers\", Age=1.5 },\n",
    "                    new Pet { Name=\"Daisy\", Age=4.3 } };\n",
    "\n",
    "// Group Pet.Age values by the Math.Floor of the age.\n",
    "// Then project an anonymous type from each group\n",
    "// that consists of the key, the count of the group's\n",
    "// elements, and the minimum and maximum age in the group.\n",
    "var query = petsList.GroupBy(\n",
    "    pet => Math.Floor(pet.Age),\n",
    "    pet => pet.Age,\n",
    "    (baseAge, ages) => new\n",
    "    {\n",
    "        Key = baseAge,\n",
    "        Count = ages.Count(),\n",
    "        Min = ages.Min(),\n",
    "        Max = ages.Max()\n",
    "    });\n",
    "\n",
    "// Iterate over each anonymous type.\n",
    "foreach (var result in query)\n",
    "{\n",
    "    Console.WriteLine(\"\\nAge group: \" + result.Key);\n",
    "    Console.WriteLine(\"Number of pets in this age group: \" + result.Count);\n",
    "    Console.WriteLine(\"Minimum age: \" + result.Min);\n",
    "    Console.WriteLine(\"Maximum age: \" + result.Max);\n",
    "}"
   ]
  },
  {
   "cell_type": "markdown",
   "metadata": {},
   "source": [
    "## Reverse\n",
    "\n",
    "Reverse переварачивает массив в обратном  порядке.\n",
    "\n",
    "![Reverse](./.media/reverse.png)\n",
    "\n",
    "Пример использования Reverse:"
   ]
  },
  {
   "cell_type": "code",
   "execution_count": 75,
   "metadata": {
    "vscode": {
     "languageId": "polyglot-notebook"
    }
   },
   "outputs": [
    {
     "name": "stdout",
     "output_type": "stream",
     "text": [
      "e l p p a "
     ]
    }
   ],
   "source": [
    "char[] apple = { 'a', 'p', 'p', 'l', 'e' };\n",
    "char[] reversed = apple.Reverse().ToArray();\n",
    "foreach (char chr in reversed)\n",
    "{\n",
    "    Console.Write(chr + \" \");\n",
    "}"
   ]
  },
  {
   "cell_type": "markdown",
   "metadata": {},
   "source": [
    "## First\n",
    "\n",
    "Возвращает первый элемент который подпадает под выборку.\n",
    "\n",
    "![First](./.media/first.png)\n",
    "\n",
    "Пример использования First:"
   ]
  },
  {
   "cell_type": "code",
   "execution_count": 76,
   "metadata": {
    "vscode": {
     "languageId": "polyglot-notebook"
    }
   },
   "outputs": [
    {
     "name": "stdout",
     "output_type": "stream",
     "text": [
      "92\r\n"
     ]
    }
   ],
   "source": [
    "int[] numbers = { 9, 34, 65, 92, 87, 435, 3, 54, 83, 23, 87, 435, 67, 12, 19 };\n",
    "int first = numbers.First(number => number > 80);\n",
    "Console.WriteLine(first);"
   ]
  },
  {
   "cell_type": "markdown",
   "metadata": {},
   "source": [
    "## Single\n",
    "\n",
    "Single не возвращается сразу после первого вхождения. Отличие от first в том, что Single гарантирует отсутствие второго элемента данного типа/предиката. Поэтому Single должен пройти все перечисление (в худшем случае), если он может найти другой элемент. Если существует более 1 записи, так же если элемент не найден он выдает исключение.\n",
    "\n",
    "![Single](./.media/single.png)\n",
    "\n",
    "Пример использования Single:"
   ]
  },
  {
   "cell_type": "code",
   "execution_count": 77,
   "metadata": {
    "vscode": {
     "languageId": "polyglot-notebook"
    }
   },
   "outputs": [
    {
     "name": "stdout",
     "output_type": "stream",
     "text": [
      "orange\r\n"
     ]
    }
   ],
   "source": [
    "string[] fruits1 = { \"orange\" };\n",
    "string fruit1 = fruits1.Single();\n",
    "Console.WriteLine(fruit1);"
   ]
  }
 ],
 "metadata": {
  "language_info": {
   "name": "csharp"
  },
  "orig_nbformat": 4
 },
 "nbformat": 4,
 "nbformat_minor": 2
}
