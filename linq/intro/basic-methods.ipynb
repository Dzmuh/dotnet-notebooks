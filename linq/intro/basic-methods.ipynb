{
 "cells": [
  {
   "cell_type": "markdown",
   "metadata": {},
   "source": [
    "# Объяснение основных методов LINQ в .NET\n",
    "\n",
    "Начиная работать с LINQ методами, можно не до конца понимать принцип их работы, в этом блокноте объясняем как работают основные методы LINQ."
   ]
  },
  {
   "cell_type": "markdown",
   "metadata": {},
   "source": [
    "## Select\n",
    "\n",
    "С помощью метода `Select` мы создаем проекцию одного элемента на другой. Проще говоря, мы сопоставляем наш заданный тип с желаемым типом. Результирующий набор содержит то же количество элементов, что и исходный набор данных.\n",
    "\n",
    "![Select](./.media/select.png)\n",
    "\n",
    "Пример:"
   ]
  },
  {
   "cell_type": "code",
   "execution_count": 8,
   "metadata": {
    "dotnet_interactive": {
     "language": "csharp"
    },
    "polyglot_notebook": {
     "kernelName": "csharp"
    },
    "vscode": {
     "languageId": "polyglot-notebook"
    }
   },
   "outputs": [
    {
     "name": "stdout",
     "output_type": "stream",
     "text": [
      "Tom\n",
      "Bob\n",
      "Sam\n",
      "Alice\n"
     ]
    }
   ],
   "source": [
    "class Person {\n",
    "    public Person(string n) {\n",
    "        Name = n;\n",
    "    }\n",
    "    public Person(string n, int a) {\n",
    "        Name = n;\n",
    "        Age = a;\n",
    "    }\n",
    "\n",
    "    public string Name { get; set; }\n",
    "    public int Age { get; set; }\n",
    "}\n",
    "\n",
    "var people = new List<Person>\n",
    "{\n",
    "    new Person (\"Tom\", 23),\n",
    "    new Person (\"Bob\", 27),\n",
    "    new Person (\"Sam\", 29),\n",
    "    new Person (\"Alice\", 24)\n",
    "};\n",
    "\n",
    "var names = people.Select(u => u.Name);\n",
    "\n",
    "foreach (string n in names)\n",
    "{\n",
    "    Console.WriteLine(n);\n",
    "}"
   ]
  },
  {
   "cell_type": "markdown",
   "metadata": {},
   "source": [
    "## Where\n",
    "\n",
    "Where фильтрует набор значений базируясь на `Func<TSource,bool>` предикате. В данном примере мы хотим получить только зеленые круги. Набор результатов может быть таким же, меньшим или даже пустым.\n",
    "\n",
    "![Where](./.media/where.png)\n",
    "\n",
    "Пример:"
   ]
  },
  {
   "cell_type": "code",
   "execution_count": 7,
   "metadata": {
    "dotnet_interactive": {
     "language": "csharp"
    },
    "polyglot_notebook": {
     "kernelName": "csharp"
    },
    "vscode": {
     "languageId": "polyglot-notebook"
    }
   },
   "outputs": [
    {
     "name": "stdout",
     "output_type": "stream",
     "text": [
      "banan\n",
      "mango\n",
      "marakuja\n",
      "pomarańcza\n",
      "borówka\n",
      "winogrono\n",
      "truskawka\n"
     ]
    }
   ],
   "source": [
    "List<string> fruits =\n",
    "    new List<string> { \"jabłko\", \"marakuja\", \"banan\", \"mango\",\n",
    "                    \"pomarańcza\", \"borówka\", \"winogrono\", \"truskawka\" };\n",
    "\n",
    "IEnumerable<string> query = fruits.Where(fruit => fruit.Length < 6);\n",
    "\n",
    "foreach (string fruit in query)\n",
    "{\n",
    "    Console.WriteLine(fruit);\n",
    "}\n",
    "\n",
    "query = fruits.Where(fruit => fruit.Length > 6);\n",
    "\n",
    "foreach (string fruit in query)\n",
    "{\n",
    "    Console.WriteLine(fruit);\n",
    "}"
   ]
  },
  {
   "cell_type": "markdown",
   "metadata": {},
   "source": [
    "## SelectMany\n",
    "\n",
    "SelectMany используется для выравнивания списков. Если у вас есть список внутри списка, мы можем использовать его, чтобы свести его к одномерному представлению.\n",
    "\n",
    "![SelectMany](./.media/selectmany.png)\n",
    "\n",
    "Пример:"
   ]
  },
  {
   "cell_type": "code",
   "execution_count": 12,
   "metadata": {
    "vscode": {
     "languageId": "polyglot-notebook"
    }
   },
   "outputs": [
    {
     "name": "stdout",
     "output_type": "stream",
     "text": [
      "0: Scruffy\n",
      "0: Sam\n",
      "1: Walker\n",
      "1: Sugar\n",
      "2: Scratches\n",
      "2: Diesel\n",
      "3: Dusty\n"
     ]
    }
   ],
   "source": [
    "class PetOwner\n",
    "{\n",
    "    public string Name { get; set; }\n",
    "    public List<string> Pets { get; set; }\n",
    "}\n",
    "\n",
    "PetOwner[] petOwners = {\n",
    "    new PetOwner {\n",
    "        Name=\"Higa, Sidney\",\n",
    "        Pets = new List<string>{ \"Scruffy\", \"Sam\" }\n",
    "    },\n",
    "    new PetOwner {\n",
    "        Name=\"Ashkenazi, Ronen\",\n",
    "        Pets = new List<string>{ \"Walker\", \"Sugar\" }\n",
    "    },\n",
    "    new PetOwner {\n",
    "        Name=\"Price, Vernette\",\n",
    "        Pets = new List<string>{ \"Scratches\", \"Diesel\" }\n",
    "    },\n",
    "    new PetOwner {\n",
    "        Name=\"Hines, Patrick\",\n",
    "        Pets = new List<string>{ \"Dusty\" }\n",
    "    }\n",
    "};\n",
    "\n",
    "IEnumerable<string> query =\n",
    "    petOwners.SelectMany((petOwner, index) => petOwner.Pets.Select(pet => index + \": \" + pet));\n",
    "\n",
    "foreach (string pet in query)\n",
    "{\n",
    "    Console.WriteLine(pet);\n",
    "}"
   ]
  },
  {
   "cell_type": "markdown",
   "metadata": {},
   "source": [
    "## Zip\n",
    "\n",
    "С помощью Zip мы «объединяем» два списка с помощью заданной функции слияния. Мы объединяем объекты вместе, пока не закончатся объекты в любом из списков. Как видно из примера:  в первом списке 2 элемента, в втором — 3. Следовательно, результирующий набор содержит только 2 элемента.\n",
    "\n",
    "![Zip](./.media/zip.png)\n",
    "\n",
    "Пример:"
   ]
  },
  {
   "cell_type": "code",
   "execution_count": 13,
   "metadata": {
    "vscode": {
     "languageId": "polyglot-notebook"
    }
   },
   "outputs": [
    {
     "name": "stdout",
     "output_type": "stream",
     "text": [
      "1 one\n",
      "2 two\n",
      "3 three\n"
     ]
    }
   ],
   "source": [
    "int[] numbers = { 1, 2, 3, 4 };\n",
    "string[] words = { \"one\", \"two\", \"three\" };\n",
    "\n",
    "var numbersAndWords = numbers.Zip(words, (first, second) => first + \" \" + second);\n",
    "\n",
    "foreach (var item in numbersAndWords)\n",
    "{\n",
    "    Console.WriteLine(item);\n",
    "}"
   ]
  },
  {
   "cell_type": "markdown",
   "metadata": {},
   "source": [
    "## OrderBy\n",
    "\n",
    "OrderBy сортирует элементы последовательности в порядке возрастания. Результирующий набор содержит то же количество элементов, что и исходный набор.\n",
    "\n",
    "![OrderBy](./.media/orderby.png)\n",
    "\n",
    "Пример:"
   ]
  },
  {
   "cell_type": "code",
   "execution_count": 15,
   "metadata": {
    "vscode": {
     "languageId": "polyglot-notebook"
    }
   },
   "outputs": [
    {
     "name": "stdout",
     "output_type": "stream",
     "text": [
      "Whiskers - 1\n",
      "Boots - 4\n",
      "Barley - 8\n"
     ]
    }
   ],
   "source": [
    "class Pet\n",
    "{\n",
    "    public string Name { get; set; }\n",
    "    public int Age { get; set; }\n",
    "}\n",
    "\n",
    "Pet[] pets = {\n",
    "    new Pet { Name=\"Barley\",   Age=8 },\n",
    "    new Pet { Name=\"Boots\",    Age=4 },\n",
    "    new Pet { Name=\"Whiskers\", Age=1 }\n",
    "};\n",
    "\n",
    "IEnumerable<Pet> query = pets.OrderBy(pet => pet.Age);\n",
    "\n",
    "foreach (Pet pet in query)\n",
    "{\n",
    "    Console.WriteLine(\"{0} - {1}\", pet.Name, pet.Age);\n",
    "}"
   ]
  }
 ],
 "metadata": {
  "language_info": {
   "name": "csharp"
  },
  "orig_nbformat": 4
 },
 "nbformat": 4,
 "nbformat_minor": 2
}
